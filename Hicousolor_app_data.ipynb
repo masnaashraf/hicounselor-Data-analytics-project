{
  "nbformat": 4,
  "nbformat_minor": 0,
  "metadata": {
    "colab": {
      "provenance": []
    },
    "kernelspec": {
      "name": "python3",
      "display_name": "Python 3"
    },
    "language_info": {
      "name": "python"
    }
  },
  "cells": [
    {
      "cell_type": "code",
      "execution_count": 1,
      "metadata": {
        "id": "zOKodwd21B53"
      },
      "outputs": [],
      "source": [
        "#importing the libraries\n",
        "import pandas as pd\n",
        "import numpy as np"
      ]
    },
    {
      "cell_type": "markdown",
      "source": [
        "loading dataset playstore_apps"
      ],
      "metadata": {
        "id": "vKhGmstB3lt9"
      }
    },
    {
      "cell_type": "code",
      "source": [
        "playstore_apps=pd.read_csv(\"/content/playstore_apps.csv\",index_col=\"App\")"
      ],
      "metadata": {
        "id": "LguIoO8B1Yql"
      },
      "execution_count": 45,
      "outputs": []
    },
    {
      "cell_type": "markdown",
      "source": [
        "displaying first 5 values"
      ],
      "metadata": {
        "id": "cHAIDITb3vTd"
      }
    },
    {
      "cell_type": "code",
      "source": [
        "playstore_apps.head()"
      ],
      "metadata": {
        "colab": {
          "base_uri": "https://localhost:8080/",
          "height": 238
        },
        "id": "t9NCc3Lm1h4Q",
        "outputId": "4dc8d392-e81d-429e-9992-1abad724b642"
      },
      "execution_count": 46,
      "outputs": [
        {
          "output_type": "execute_result",
          "data": {
            "text/plain": [
              "                                                          Category  Rating  \\\n",
              "App                                                                          \n",
              "Photo Editor & Candy Camera & Grid & ScrapBook      ART_AND_DESIGN     4.1   \n",
              "Coloring book moana                                 ART_AND_DESIGN     3.9   \n",
              "U Launcher Lite – FREE Live Cool Themes, Hide Apps  ART_AND_DESIGN     4.7   \n",
              "Sketch - Draw & Paint                               ART_AND_DESIGN     4.5   \n",
              "Pixel Draw - Number Art Coloring Book               ART_AND_DESIGN     4.3   \n",
              "\n",
              "                                                     Reviews  Size  \\\n",
              "App                                                                  \n",
              "Photo Editor & Candy Camera & Grid & ScrapBook         159.0   19M   \n",
              "Coloring book moana                                    967.0   14M   \n",
              "U Launcher Lite – FREE Live Cool Themes, Hide Apps   87510.0  8.7M   \n",
              "Sketch - Draw & Paint                               215644.0   25M   \n",
              "Pixel Draw - Number Art Coloring Book                  967.0  2.8M   \n",
              "\n",
              "                                                      Installs  Type  Price  \\\n",
              "App                                                                           \n",
              "Photo Editor & Candy Camera & Grid & ScrapBook         10000.0  Free    0.0   \n",
              "Coloring book moana                                   500000.0  Free    0.0   \n",
              "U Launcher Lite – FREE Live Cool Themes, Hide Apps   5000000.0  Free    0.0   \n",
              "Sketch - Draw & Paint                               50000000.0  Free    0.0   \n",
              "Pixel Draw - Number Art Coloring Book                 100000.0  Free    0.0   \n",
              "\n",
              "                                                   Content Rating  \\\n",
              "App                                                                 \n",
              "Photo Editor & Candy Camera & Grid & ScrapBook           Everyone   \n",
              "Coloring book moana                                      Everyone   \n",
              "U Launcher Lite – FREE Live Cool Themes, Hide Apps       Everyone   \n",
              "Sketch - Draw & Paint                                        Teen   \n",
              "Pixel Draw - Number Art Coloring Book                    Everyone   \n",
              "\n",
              "                                                                       Genres  \\\n",
              "App                                                                             \n",
              "Photo Editor & Candy Camera & Grid & ScrapBook                   Art & Design   \n",
              "Coloring book moana                                 Art & Design;Pretend Play   \n",
              "U Launcher Lite – FREE Live Cool Themes, Hide Apps               Art & Design   \n",
              "Sketch - Draw & Paint                                            Art & Design   \n",
              "Pixel Draw - Number Art Coloring Book                 Art & Design;Creativity   \n",
              "\n",
              "                                                   Last Updated  \\\n",
              "App                                                               \n",
              "Photo Editor & Candy Camera & Grid & ScrapBook       07-01-2018   \n",
              "Coloring book moana                                  15-01-2018   \n",
              "U Launcher Lite – FREE Live Cool Themes, Hide Apps   01-08-2018   \n",
              "Sketch - Draw & Paint                                08-06-2018   \n",
              "Pixel Draw - Number Art Coloring Book                20-06-2018   \n",
              "\n",
              "                                                           Current Ver  \\\n",
              "App                                                                      \n",
              "Photo Editor & Candy Camera & Grid & ScrapBook                   1.0.0   \n",
              "Coloring book moana                                              2.0.0   \n",
              "U Launcher Lite – FREE Live Cool Themes, Hide Apps               1.2.4   \n",
              "Sketch - Draw & Paint                               Varies with device   \n",
              "Pixel Draw - Number Art Coloring Book                              1.1   \n",
              "\n",
              "                                                     Android Ver  \n",
              "App                                                               \n",
              "Photo Editor & Candy Camera & Grid & ScrapBook      4.0.3 and up  \n",
              "Coloring book moana                                 4.0.3 and up  \n",
              "U Launcher Lite – FREE Live Cool Themes, Hide Apps  4.0.3 and up  \n",
              "Sketch - Draw & Paint                                 4.2 and up  \n",
              "Pixel Draw - Number Art Coloring Book                 4.4 and up  "
            ],
            "text/html": [
              "\n",
              "  <div id=\"df-e6614c27-46f3-4e13-a742-ca07805827cc\">\n",
              "    <div class=\"colab-df-container\">\n",
              "      <div>\n",
              "<style scoped>\n",
              "    .dataframe tbody tr th:only-of-type {\n",
              "        vertical-align: middle;\n",
              "    }\n",
              "\n",
              "    .dataframe tbody tr th {\n",
              "        vertical-align: top;\n",
              "    }\n",
              "\n",
              "    .dataframe thead th {\n",
              "        text-align: right;\n",
              "    }\n",
              "</style>\n",
              "<table border=\"1\" class=\"dataframe\">\n",
              "  <thead>\n",
              "    <tr style=\"text-align: right;\">\n",
              "      <th></th>\n",
              "      <th>Category</th>\n",
              "      <th>Rating</th>\n",
              "      <th>Reviews</th>\n",
              "      <th>Size</th>\n",
              "      <th>Installs</th>\n",
              "      <th>Type</th>\n",
              "      <th>Price</th>\n",
              "      <th>Content Rating</th>\n",
              "      <th>Genres</th>\n",
              "      <th>Last Updated</th>\n",
              "      <th>Current Ver</th>\n",
              "      <th>Android Ver</th>\n",
              "    </tr>\n",
              "    <tr>\n",
              "      <th>App</th>\n",
              "      <th></th>\n",
              "      <th></th>\n",
              "      <th></th>\n",
              "      <th></th>\n",
              "      <th></th>\n",
              "      <th></th>\n",
              "      <th></th>\n",
              "      <th></th>\n",
              "      <th></th>\n",
              "      <th></th>\n",
              "      <th></th>\n",
              "      <th></th>\n",
              "    </tr>\n",
              "  </thead>\n",
              "  <tbody>\n",
              "    <tr>\n",
              "      <th>Photo Editor &amp; Candy Camera &amp; Grid &amp; ScrapBook</th>\n",
              "      <td>ART_AND_DESIGN</td>\n",
              "      <td>4.1</td>\n",
              "      <td>159.0</td>\n",
              "      <td>19M</td>\n",
              "      <td>10000.0</td>\n",
              "      <td>Free</td>\n",
              "      <td>0.0</td>\n",
              "      <td>Everyone</td>\n",
              "      <td>Art &amp; Design</td>\n",
              "      <td>07-01-2018</td>\n",
              "      <td>1.0.0</td>\n",
              "      <td>4.0.3 and up</td>\n",
              "    </tr>\n",
              "    <tr>\n",
              "      <th>Coloring book moana</th>\n",
              "      <td>ART_AND_DESIGN</td>\n",
              "      <td>3.9</td>\n",
              "      <td>967.0</td>\n",
              "      <td>14M</td>\n",
              "      <td>500000.0</td>\n",
              "      <td>Free</td>\n",
              "      <td>0.0</td>\n",
              "      <td>Everyone</td>\n",
              "      <td>Art &amp; Design;Pretend Play</td>\n",
              "      <td>15-01-2018</td>\n",
              "      <td>2.0.0</td>\n",
              "      <td>4.0.3 and up</td>\n",
              "    </tr>\n",
              "    <tr>\n",
              "      <th>U Launcher Lite – FREE Live Cool Themes, Hide Apps</th>\n",
              "      <td>ART_AND_DESIGN</td>\n",
              "      <td>4.7</td>\n",
              "      <td>87510.0</td>\n",
              "      <td>8.7M</td>\n",
              "      <td>5000000.0</td>\n",
              "      <td>Free</td>\n",
              "      <td>0.0</td>\n",
              "      <td>Everyone</td>\n",
              "      <td>Art &amp; Design</td>\n",
              "      <td>01-08-2018</td>\n",
              "      <td>1.2.4</td>\n",
              "      <td>4.0.3 and up</td>\n",
              "    </tr>\n",
              "    <tr>\n",
              "      <th>Sketch - Draw &amp; Paint</th>\n",
              "      <td>ART_AND_DESIGN</td>\n",
              "      <td>4.5</td>\n",
              "      <td>215644.0</td>\n",
              "      <td>25M</td>\n",
              "      <td>50000000.0</td>\n",
              "      <td>Free</td>\n",
              "      <td>0.0</td>\n",
              "      <td>Teen</td>\n",
              "      <td>Art &amp; Design</td>\n",
              "      <td>08-06-2018</td>\n",
              "      <td>Varies with device</td>\n",
              "      <td>4.2 and up</td>\n",
              "    </tr>\n",
              "    <tr>\n",
              "      <th>Pixel Draw - Number Art Coloring Book</th>\n",
              "      <td>ART_AND_DESIGN</td>\n",
              "      <td>4.3</td>\n",
              "      <td>967.0</td>\n",
              "      <td>2.8M</td>\n",
              "      <td>100000.0</td>\n",
              "      <td>Free</td>\n",
              "      <td>0.0</td>\n",
              "      <td>Everyone</td>\n",
              "      <td>Art &amp; Design;Creativity</td>\n",
              "      <td>20-06-2018</td>\n",
              "      <td>1.1</td>\n",
              "      <td>4.4 and up</td>\n",
              "    </tr>\n",
              "  </tbody>\n",
              "</table>\n",
              "</div>\n",
              "      <button class=\"colab-df-convert\" onclick=\"convertToInteractive('df-e6614c27-46f3-4e13-a742-ca07805827cc')\"\n",
              "              title=\"Convert this dataframe to an interactive table.\"\n",
              "              style=\"display:none;\">\n",
              "        \n",
              "  <svg xmlns=\"http://www.w3.org/2000/svg\" height=\"24px\"viewBox=\"0 0 24 24\"\n",
              "       width=\"24px\">\n",
              "    <path d=\"M0 0h24v24H0V0z\" fill=\"none\"/>\n",
              "    <path d=\"M18.56 5.44l.94 2.06.94-2.06 2.06-.94-2.06-.94-.94-2.06-.94 2.06-2.06.94zm-11 1L8.5 8.5l.94-2.06 2.06-.94-2.06-.94L8.5 2.5l-.94 2.06-2.06.94zm10 10l.94 2.06.94-2.06 2.06-.94-2.06-.94-.94-2.06-.94 2.06-2.06.94z\"/><path d=\"M17.41 7.96l-1.37-1.37c-.4-.4-.92-.59-1.43-.59-.52 0-1.04.2-1.43.59L10.3 9.45l-7.72 7.72c-.78.78-.78 2.05 0 2.83L4 21.41c.39.39.9.59 1.41.59.51 0 1.02-.2 1.41-.59l7.78-7.78 2.81-2.81c.8-.78.8-2.07 0-2.86zM5.41 20L4 18.59l7.72-7.72 1.47 1.35L5.41 20z\"/>\n",
              "  </svg>\n",
              "      </button>\n",
              "      \n",
              "  <style>\n",
              "    .colab-df-container {\n",
              "      display:flex;\n",
              "      flex-wrap:wrap;\n",
              "      gap: 12px;\n",
              "    }\n",
              "\n",
              "    .colab-df-convert {\n",
              "      background-color: #E8F0FE;\n",
              "      border: none;\n",
              "      border-radius: 50%;\n",
              "      cursor: pointer;\n",
              "      display: none;\n",
              "      fill: #1967D2;\n",
              "      height: 32px;\n",
              "      padding: 0 0 0 0;\n",
              "      width: 32px;\n",
              "    }\n",
              "\n",
              "    .colab-df-convert:hover {\n",
              "      background-color: #E2EBFA;\n",
              "      box-shadow: 0px 1px 2px rgba(60, 64, 67, 0.3), 0px 1px 3px 1px rgba(60, 64, 67, 0.15);\n",
              "      fill: #174EA6;\n",
              "    }\n",
              "\n",
              "    [theme=dark] .colab-df-convert {\n",
              "      background-color: #3B4455;\n",
              "      fill: #D2E3FC;\n",
              "    }\n",
              "\n",
              "    [theme=dark] .colab-df-convert:hover {\n",
              "      background-color: #434B5C;\n",
              "      box-shadow: 0px 1px 3px 1px rgba(0, 0, 0, 0.15);\n",
              "      filter: drop-shadow(0px 1px 2px rgba(0, 0, 0, 0.3));\n",
              "      fill: #FFFFFF;\n",
              "    }\n",
              "  </style>\n",
              "\n",
              "      <script>\n",
              "        const buttonEl =\n",
              "          document.querySelector('#df-e6614c27-46f3-4e13-a742-ca07805827cc button.colab-df-convert');\n",
              "        buttonEl.style.display =\n",
              "          google.colab.kernel.accessAllowed ? 'block' : 'none';\n",
              "\n",
              "        async function convertToInteractive(key) {\n",
              "          const element = document.querySelector('#df-e6614c27-46f3-4e13-a742-ca07805827cc');\n",
              "          const dataTable =\n",
              "            await google.colab.kernel.invokeFunction('convertToInteractive',\n",
              "                                                     [key], {});\n",
              "          if (!dataTable) return;\n",
              "\n",
              "          const docLinkHtml = 'Like what you see? Visit the ' +\n",
              "            '<a target=\"_blank\" href=https://colab.research.google.com/notebooks/data_table.ipynb>data table notebook</a>'\n",
              "            + ' to learn more about interactive tables.';\n",
              "          element.innerHTML = '';\n",
              "          dataTable['output_type'] = 'display_data';\n",
              "          await google.colab.output.renderOutput(dataTable, element);\n",
              "          const docLink = document.createElement('div');\n",
              "          docLink.innerHTML = docLinkHtml;\n",
              "          element.appendChild(docLink);\n",
              "        }\n",
              "      </script>\n",
              "    </div>\n",
              "  </div>\n",
              "  "
            ]
          },
          "metadata": {},
          "execution_count": 46
        }
      ]
    },
    {
      "cell_type": "markdown",
      "source": [
        "listing out number of rows and number of column in the dataframe"
      ],
      "metadata": {
        "id": "jo1aM3EP30bN"
      }
    },
    {
      "cell_type": "code",
      "source": [
        "playstore_apps.shape"
      ],
      "metadata": {
        "colab": {
          "base_uri": "https://localhost:8080/"
        },
        "id": "wx0KyeIA1okK",
        "outputId": "e436ec29-76eb-4e80-f75d-ff83f5be728c"
      },
      "execution_count": 47,
      "outputs": [
        {
          "output_type": "execute_result",
          "data": {
            "text/plain": [
              "(10841, 12)"
            ]
          },
          "metadata": {},
          "execution_count": 47
        }
      ]
    },
    {
      "cell_type": "markdown",
      "source": [
        "viewing the information on the data frame"
      ],
      "metadata": {
        "id": "VhQfEobJ4Uke"
      }
    },
    {
      "cell_type": "code",
      "source": [
        "playstore_apps.info()"
      ],
      "metadata": {
        "colab": {
          "base_uri": "https://localhost:8080/"
        },
        "id": "0i4nVdUE1n5h",
        "outputId": "a14d9b5c-ea8d-49f9-a01b-05dc262120e3"
      },
      "execution_count": 48,
      "outputs": [
        {
          "output_type": "stream",
          "name": "stdout",
          "text": [
            "<class 'pandas.core.frame.DataFrame'>\n",
            "Index: 10841 entries, Photo Editor & Candy Camera & Grid & ScrapBook to iHoroscope - 2018 Daily Horoscope & Astrology\n",
            "Data columns (total 12 columns):\n",
            " #   Column          Non-Null Count  Dtype  \n",
            "---  ------          --------------  -----  \n",
            " 0   Category        10841 non-null  object \n",
            " 1   Rating          9367 non-null   float64\n",
            " 2   Reviews         10840 non-null  float64\n",
            " 3   Size            10841 non-null  object \n",
            " 4   Installs        10840 non-null  float64\n",
            " 5   Type            10840 non-null  object \n",
            " 6   Price           10840 non-null  float64\n",
            " 7   Content Rating  10840 non-null  object \n",
            " 8   Genres          10841 non-null  object \n",
            " 9   Last Updated    10840 non-null  object \n",
            " 10  Current Ver     10833 non-null  object \n",
            " 11  Android Ver     10838 non-null  object \n",
            "dtypes: float64(4), object(8)\n",
            "memory usage: 1.1+ MB\n"
          ]
        }
      ]
    },
    {
      "cell_type": "markdown",
      "source": [
        "checking the statistical discription of the data"
      ],
      "metadata": {
        "id": "nyB7DaHV4ZO2"
      }
    },
    {
      "cell_type": "code",
      "source": [
        "playstore_apps.describe()"
      ],
      "metadata": {
        "colab": {
          "base_uri": "https://localhost:8080/",
          "height": 300
        },
        "id": "ED55KOmN1xpR",
        "outputId": "38a96486-93ff-4085-c1e7-d92d4bf22d6d"
      },
      "execution_count": 6,
      "outputs": [
        {
          "output_type": "execute_result",
          "data": {
            "text/plain": [
              "            Rating       Reviews      Installs         Price\n",
              "count  9367.000000  1.084000e+04  1.084000e+04  10840.000000\n",
              "mean      4.193338  4.441529e+05  1.546434e+07      1.027368\n",
              "std       0.537431  2.927761e+06  8.502936e+07     15.949703\n",
              "min       1.000000  0.000000e+00  0.000000e+00      0.000000\n",
              "25%       4.000000  3.800000e+01  1.000000e+03      0.000000\n",
              "50%       4.300000  2.094000e+03  1.000000e+05      0.000000\n",
              "75%       4.500000  5.477550e+04  5.000000e+06      0.000000\n",
              "max      19.000000  7.815831e+07  1.000000e+09    400.000000"
            ],
            "text/html": [
              "\n",
              "  <div id=\"df-9d1d1ada-cd38-4627-8e0f-3f1e685b51c7\">\n",
              "    <div class=\"colab-df-container\">\n",
              "      <div>\n",
              "<style scoped>\n",
              "    .dataframe tbody tr th:only-of-type {\n",
              "        vertical-align: middle;\n",
              "    }\n",
              "\n",
              "    .dataframe tbody tr th {\n",
              "        vertical-align: top;\n",
              "    }\n",
              "\n",
              "    .dataframe thead th {\n",
              "        text-align: right;\n",
              "    }\n",
              "</style>\n",
              "<table border=\"1\" class=\"dataframe\">\n",
              "  <thead>\n",
              "    <tr style=\"text-align: right;\">\n",
              "      <th></th>\n",
              "      <th>Rating</th>\n",
              "      <th>Reviews</th>\n",
              "      <th>Installs</th>\n",
              "      <th>Price</th>\n",
              "    </tr>\n",
              "  </thead>\n",
              "  <tbody>\n",
              "    <tr>\n",
              "      <th>count</th>\n",
              "      <td>9367.000000</td>\n",
              "      <td>1.084000e+04</td>\n",
              "      <td>1.084000e+04</td>\n",
              "      <td>10840.000000</td>\n",
              "    </tr>\n",
              "    <tr>\n",
              "      <th>mean</th>\n",
              "      <td>4.193338</td>\n",
              "      <td>4.441529e+05</td>\n",
              "      <td>1.546434e+07</td>\n",
              "      <td>1.027368</td>\n",
              "    </tr>\n",
              "    <tr>\n",
              "      <th>std</th>\n",
              "      <td>0.537431</td>\n",
              "      <td>2.927761e+06</td>\n",
              "      <td>8.502936e+07</td>\n",
              "      <td>15.949703</td>\n",
              "    </tr>\n",
              "    <tr>\n",
              "      <th>min</th>\n",
              "      <td>1.000000</td>\n",
              "      <td>0.000000e+00</td>\n",
              "      <td>0.000000e+00</td>\n",
              "      <td>0.000000</td>\n",
              "    </tr>\n",
              "    <tr>\n",
              "      <th>25%</th>\n",
              "      <td>4.000000</td>\n",
              "      <td>3.800000e+01</td>\n",
              "      <td>1.000000e+03</td>\n",
              "      <td>0.000000</td>\n",
              "    </tr>\n",
              "    <tr>\n",
              "      <th>50%</th>\n",
              "      <td>4.300000</td>\n",
              "      <td>2.094000e+03</td>\n",
              "      <td>1.000000e+05</td>\n",
              "      <td>0.000000</td>\n",
              "    </tr>\n",
              "    <tr>\n",
              "      <th>75%</th>\n",
              "      <td>4.500000</td>\n",
              "      <td>5.477550e+04</td>\n",
              "      <td>5.000000e+06</td>\n",
              "      <td>0.000000</td>\n",
              "    </tr>\n",
              "    <tr>\n",
              "      <th>max</th>\n",
              "      <td>19.000000</td>\n",
              "      <td>7.815831e+07</td>\n",
              "      <td>1.000000e+09</td>\n",
              "      <td>400.000000</td>\n",
              "    </tr>\n",
              "  </tbody>\n",
              "</table>\n",
              "</div>\n",
              "      <button class=\"colab-df-convert\" onclick=\"convertToInteractive('df-9d1d1ada-cd38-4627-8e0f-3f1e685b51c7')\"\n",
              "              title=\"Convert this dataframe to an interactive table.\"\n",
              "              style=\"display:none;\">\n",
              "        \n",
              "  <svg xmlns=\"http://www.w3.org/2000/svg\" height=\"24px\"viewBox=\"0 0 24 24\"\n",
              "       width=\"24px\">\n",
              "    <path d=\"M0 0h24v24H0V0z\" fill=\"none\"/>\n",
              "    <path d=\"M18.56 5.44l.94 2.06.94-2.06 2.06-.94-2.06-.94-.94-2.06-.94 2.06-2.06.94zm-11 1L8.5 8.5l.94-2.06 2.06-.94-2.06-.94L8.5 2.5l-.94 2.06-2.06.94zm10 10l.94 2.06.94-2.06 2.06-.94-2.06-.94-.94-2.06-.94 2.06-2.06.94z\"/><path d=\"M17.41 7.96l-1.37-1.37c-.4-.4-.92-.59-1.43-.59-.52 0-1.04.2-1.43.59L10.3 9.45l-7.72 7.72c-.78.78-.78 2.05 0 2.83L4 21.41c.39.39.9.59 1.41.59.51 0 1.02-.2 1.41-.59l7.78-7.78 2.81-2.81c.8-.78.8-2.07 0-2.86zM5.41 20L4 18.59l7.72-7.72 1.47 1.35L5.41 20z\"/>\n",
              "  </svg>\n",
              "      </button>\n",
              "      \n",
              "  <style>\n",
              "    .colab-df-container {\n",
              "      display:flex;\n",
              "      flex-wrap:wrap;\n",
              "      gap: 12px;\n",
              "    }\n",
              "\n",
              "    .colab-df-convert {\n",
              "      background-color: #E8F0FE;\n",
              "      border: none;\n",
              "      border-radius: 50%;\n",
              "      cursor: pointer;\n",
              "      display: none;\n",
              "      fill: #1967D2;\n",
              "      height: 32px;\n",
              "      padding: 0 0 0 0;\n",
              "      width: 32px;\n",
              "    }\n",
              "\n",
              "    .colab-df-convert:hover {\n",
              "      background-color: #E2EBFA;\n",
              "      box-shadow: 0px 1px 2px rgba(60, 64, 67, 0.3), 0px 1px 3px 1px rgba(60, 64, 67, 0.15);\n",
              "      fill: #174EA6;\n",
              "    }\n",
              "\n",
              "    [theme=dark] .colab-df-convert {\n",
              "      background-color: #3B4455;\n",
              "      fill: #D2E3FC;\n",
              "    }\n",
              "\n",
              "    [theme=dark] .colab-df-convert:hover {\n",
              "      background-color: #434B5C;\n",
              "      box-shadow: 0px 1px 3px 1px rgba(0, 0, 0, 0.15);\n",
              "      filter: drop-shadow(0px 1px 2px rgba(0, 0, 0, 0.3));\n",
              "      fill: #FFFFFF;\n",
              "    }\n",
              "  </style>\n",
              "\n",
              "      <script>\n",
              "        const buttonEl =\n",
              "          document.querySelector('#df-9d1d1ada-cd38-4627-8e0f-3f1e685b51c7 button.colab-df-convert');\n",
              "        buttonEl.style.display =\n",
              "          google.colab.kernel.accessAllowed ? 'block' : 'none';\n",
              "\n",
              "        async function convertToInteractive(key) {\n",
              "          const element = document.querySelector('#df-9d1d1ada-cd38-4627-8e0f-3f1e685b51c7');\n",
              "          const dataTable =\n",
              "            await google.colab.kernel.invokeFunction('convertToInteractive',\n",
              "                                                     [key], {});\n",
              "          if (!dataTable) return;\n",
              "\n",
              "          const docLinkHtml = 'Like what you see? Visit the ' +\n",
              "            '<a target=\"_blank\" href=https://colab.research.google.com/notebooks/data_table.ipynb>data table notebook</a>'\n",
              "            + ' to learn more about interactive tables.';\n",
              "          element.innerHTML = '';\n",
              "          dataTable['output_type'] = 'display_data';\n",
              "          await google.colab.output.renderOutput(dataTable, element);\n",
              "          const docLink = document.createElement('div');\n",
              "          docLink.innerHTML = docLinkHtml;\n",
              "          element.appendChild(docLink);\n",
              "        }\n",
              "      </script>\n",
              "    </div>\n",
              "  </div>\n",
              "  "
            ]
          },
          "metadata": {},
          "execution_count": 6
        }
      ]
    },
    {
      "cell_type": "markdown",
      "source": [
        "listing out the column names"
      ],
      "metadata": {
        "id": "lq3jjQat4iN3"
      }
    },
    {
      "cell_type": "code",
      "source": [
        "playstore_apps.columns"
      ],
      "metadata": {
        "colab": {
          "base_uri": "https://localhost:8080/"
        },
        "id": "Pmxjs81X3Z3S",
        "outputId": "ed6b6de5-6133-4c29-bc37-24bebce14e7b"
      },
      "execution_count": 7,
      "outputs": [
        {
          "output_type": "execute_result",
          "data": {
            "text/plain": [
              "Index(['Category', 'Rating', 'Reviews', 'Size', 'Installs', 'Type', 'Price',\n",
              "       'Content Rating', 'Genres', 'Last Updated', 'Current Ver',\n",
              "       'Android Ver'],\n",
              "      dtype='object')"
            ]
          },
          "metadata": {},
          "execution_count": 7
        }
      ]
    },
    {
      "cell_type": "code",
      "source": [
        "playstore_apps.rename({\"Content Rating\":\"Content_Rating\",\"Last Updated\":\"Last_Updated\",\"Current Ver\":\"Current_Ver\",\"Android Ver\":\"Android_Ver\"},axis=1,inplace=True)"
      ],
      "metadata": {
        "id": "VoDLcciWcDcO"
      },
      "execution_count": 49,
      "outputs": []
    },
    {
      "cell_type": "code",
      "source": [
        "playstore_apps.columns"
      ],
      "metadata": {
        "colab": {
          "base_uri": "https://localhost:8080/"
        },
        "id": "B-oCSyWPcqan",
        "outputId": "c9c7c379-206e-499f-ce78-aa058a9096d2"
      },
      "execution_count": 9,
      "outputs": [
        {
          "output_type": "execute_result",
          "data": {
            "text/plain": [
              "Index(['Category', 'Rating', 'Reviews', 'Size', 'Installs', 'Type', 'Price',\n",
              "       'Content_Rating', 'Genres', 'Last_Updated', 'Current_Ver',\n",
              "       'Android_Ver'],\n",
              "      dtype='object')"
            ]
          },
          "metadata": {},
          "execution_count": 9
        }
      ]
    },
    {
      "cell_type": "code",
      "source": [
        "print(\"Pring unique values of each column\")\n",
        "for i in playstore_apps.columns[:]:\n",
        "  print(\"*\"*70)\n",
        "  print(\"number of unique values of \",i,\" column :\",playstore_apps[i].nunique())\n",
        "  print(\"unique values:\")\n",
        "  print(playstore_apps[i].unique())"
      ],
      "metadata": {
        "colab": {
          "base_uri": "https://localhost:8080/"
        },
        "id": "bMBKPyMDei8k",
        "outputId": "b4b6ef73-092a-43af-ba68-4edaa621d528"
      },
      "execution_count": 10,
      "outputs": [
        {
          "output_type": "stream",
          "name": "stdout",
          "text": [
            "Pring unique values of each column\n",
            "**********************************************************************\n",
            "number of unique values of  Category  column : 34\n",
            "unique values:\n",
            "['ART_AND_DESIGN' 'AUTO_AND_VEHICLES' 'BEAUTY' 'BOOKS_AND_REFERENCE'\n",
            " 'BUSINESS' 'COMICS' 'COMMUNICATION' 'DATING' 'EDUCATION' 'ENTERTAINMENT'\n",
            " 'EVENTS' 'FINANCE' 'FOOD_AND_DRINK' 'HEALTH_AND_FITNESS' 'HOUSE_AND_HOME'\n",
            " 'LIBRARIES_AND_DEMO' 'LIFESTYLE' 'GAME' 'FAMILY' 'MEDICAL' 'SOCIAL'\n",
            " 'SHOPPING' 'PHOTOGRAPHY' 'SPORTS' 'TRAVEL_AND_LOCAL' 'TOOLS'\n",
            " 'PERSONALIZATION' 'PRODUCTIVITY' 'PARENTING' 'WEATHER' 'VIDEO_PLAYERS'\n",
            " 'NEWS_AND_MAGAZINES' 'MAPS_AND_NAVIGATION' '1.9']\n",
            "**********************************************************************\n",
            "number of unique values of  Rating  column : 40\n",
            "unique values:\n",
            "[ 4.1  3.9  4.7  4.5  4.3  4.4  3.8  4.2  4.6  3.2  4.   nan  4.8  4.9\n",
            "  3.6  3.7  3.3  3.4  3.5  3.1  5.   2.6  3.   1.9  2.5  2.8  2.7  1.\n",
            "  2.9  2.3  2.2  1.7  2.   1.8  2.4  1.6  2.1  1.4  1.5  1.2 19. ]\n",
            "**********************************************************************\n",
            "number of unique values of  Reviews  column : 6001\n",
            "unique values:\n",
            "[1.59000e+02 9.67000e+02 8.75100e+04 ... 6.03000e+02 1.19500e+03\n",
            " 3.98307e+05]\n",
            "**********************************************************************\n",
            "number of unique values of  Size  column : 462\n",
            "unique values:\n",
            "['19M' '14M' '8.7M' '25M' '2.8M' '5.6M' '29M' '33M' '3.1M' '28M' '12M'\n",
            " '20M' '21M' '37M' '2.7M' '5.5M' '17M' '39M' '31M' '4.2M' '7.0M' '23M'\n",
            " '6.0M' '6.1M' '4.6M' '9.2M' '5.2M' '11M' '24M' 'Varies with device'\n",
            " '9.4M' '15M' '10M' '1.2M' '26M' '8.0M' '7.9M' '56M' '57M' '35M' '54M'\n",
            " '201k' '3.6M' '5.7M' '8.6M' '2.4M' '27M' '2.5M' '16M' '3.4M' '8.9M'\n",
            " '3.9M' '2.9M' '38M' '32M' '5.4M' '18M' '1.1M' '2.2M' '4.5M' '9.8M' '52M'\n",
            " '9.0M' '6.7M' '30M' '2.6M' '7.1M' '3.7M' '22M' '7.4M' '6.4M' '3.2M'\n",
            " '8.2M' '9.9M' '4.9M' '9.5M' '5.0M' '5.9M' '13M' '73M' '6.8M' '3.5M'\n",
            " '4.0M' '2.3M' '7.2M' '2.1M' '42M' '7.3M' '9.1M' '55M' '23k' '6.5M' '1.5M'\n",
            " '7.5M' '51M' '41M' '48M' '8.5M' '46M' '8.3M' '4.3M' '4.7M' '3.3M' '40M'\n",
            " '7.8M' '8.8M' '6.6M' '5.1M' '61M' '66M' '79k' '8.4M' '118k' '44M' '695k'\n",
            " '1.6M' '6.2M' '18k' '53M' '1.4M' '3.0M' '5.8M' '3.8M' '9.6M' '45M' '63M'\n",
            " '49M' '77M' '4.4M' '4.8M' '70M' '6.9M' '9.3M' '10.0M' '8.1M' '36M' '84M'\n",
            " '97M' '2.0M' '1.9M' '1.8M' '5.3M' '47M' '556k' '526k' '76M' '7.6M' '59M'\n",
            " '9.7M' '78M' '72M' '43M' '7.7M' '6.3M' '334k' '34M' '93M' '65M' '79M'\n",
            " '100M' '58M' '50M' '68M' '64M' '67M' '60M' '94M' '232k' '99M' '624k'\n",
            " '95M' '8.5k' '41k' '292k' '11k' '80M' '1.7M' '74M' '62M' '69M' '75M'\n",
            " '98M' '85M' '82M' '96M' '87M' '71M' '86M' '91M' '81M' '92M' '83M' '88M'\n",
            " '704k' '862k' '899k' '378k' '266k' '375k' '1.3M' '975k' '980k' '4.1M'\n",
            " '89M' '696k' '544k' '525k' '920k' '779k' '853k' '720k' '713k' '772k'\n",
            " '318k' '58k' '241k' '196k' '857k' '51k' '953k' '865k' '251k' '930k'\n",
            " '540k' '313k' '746k' '203k' '26k' '314k' '239k' '371k' '220k' '730k'\n",
            " '756k' '91k' '293k' '17k' '74k' '14k' '317k' '78k' '924k' '902k' '818k'\n",
            " '81k' '939k' '169k' '45k' '475k' '965k' '90M' '545k' '61k' '283k' '655k'\n",
            " '714k' '93k' '872k' '121k' '322k' '1.0M' '976k' '172k' '238k' '549k'\n",
            " '206k' '954k' '444k' '717k' '210k' '609k' '308k' '705k' '306k' '904k'\n",
            " '473k' '175k' '350k' '383k' '454k' '421k' '70k' '812k' '442k' '842k'\n",
            " '417k' '412k' '459k' '478k' '335k' '782k' '721k' '430k' '429k' '192k'\n",
            " '200k' '460k' '728k' '496k' '816k' '414k' '506k' '887k' '613k' '243k'\n",
            " '569k' '778k' '683k' '592k' '319k' '186k' '840k' '647k' '191k' '373k'\n",
            " '437k' '598k' '716k' '585k' '982k' '222k' '219k' '55k' '948k' '323k'\n",
            " '691k' '511k' '951k' '963k' '25k' '554k' '351k' '27k' '82k' '208k' '913k'\n",
            " '514k' '551k' '29k' '103k' '898k' '743k' '116k' '153k' '209k' '353k'\n",
            " '499k' '173k' '597k' '809k' '122k' '411k' '400k' '801k' '787k' '237k'\n",
            " '50k' '643k' '986k' '97k' '516k' '837k' '780k' '961k' '269k' '20k' '498k'\n",
            " '600k' '749k' '642k' '881k' '72k' '656k' '601k' '221k' '228k' '108k'\n",
            " '940k' '176k' '33k' '663k' '34k' '942k' '259k' '164k' '458k' '245k'\n",
            " '629k' '28k' '288k' '775k' '785k' '636k' '916k' '994k' '309k' '485k'\n",
            " '914k' '903k' '608k' '500k' '54k' '562k' '847k' '957k' '688k' '811k'\n",
            " '270k' '48k' '329k' '523k' '921k' '874k' '981k' '784k' '280k' '24k'\n",
            " '518k' '754k' '892k' '154k' '860k' '364k' '387k' '626k' '161k' '879k'\n",
            " '39k' '970k' '170k' '141k' '160k' '144k' '143k' '190k' '376k' '193k'\n",
            " '246k' '73k' '658k' '992k' '253k' '420k' '404k' '1,000+' '470k' '226k'\n",
            " '240k' '89k' '234k' '257k' '861k' '467k' '157k' '44k' '676k' '67k' '552k'\n",
            " '885k' '1020k' '582k' '619k']\n",
            "**********************************************************************\n",
            "number of unique values of  Installs  column : 20\n",
            "unique values:\n",
            "[1.e+04 5.e+05 5.e+06 5.e+07 1.e+05 5.e+04 1.e+06 1.e+07 5.e+03 1.e+08\n",
            " 1.e+09 1.e+03 5.e+08 5.e+01 1.e+02 5.e+02 1.e+01 1.e+00 5.e+00 0.e+00\n",
            "    nan]\n",
            "**********************************************************************\n",
            "number of unique values of  Type  column : 3\n",
            "unique values:\n",
            "['Free' 'Paid' nan '0']\n",
            "**********************************************************************\n",
            "number of unique values of  Price  column : 92\n",
            "unique values:\n",
            "[  0.     4.99   3.99   6.99   1.49   2.99   7.99   5.99   3.49   1.99\n",
            "   9.99   7.49   0.99   9.     5.49  10.    24.99  11.99  79.99  16.99\n",
            "  14.99   1.    29.99  12.99   2.49  10.99   1.5   19.99  15.99  33.99\n",
            "  74.99  39.99   3.95   4.49   1.7    8.99   2.     3.88  25.99 399.99\n",
            "  17.99 400.     3.02   1.76   4.84   4.77   1.61   2.5    1.59   6.49\n",
            "   1.29   5.    13.99 299.99 379.99  37.99  18.99 389.99  19.9    8.49\n",
            "   1.75  14.     4.85  46.99 109.99 154.99   3.08   2.59   4.8    1.96\n",
            "  19.4    3.9    4.59  15.46   3.04   4.29   2.6    3.28   4.6   28.99\n",
            "   2.95   2.9    1.97 200.    89.99   2.56  30.99   3.61 394.99   1.26\n",
            "    nan   1.2    1.04]\n",
            "**********************************************************************\n",
            "number of unique values of  Content_Rating  column : 6\n",
            "unique values:\n",
            "['Everyone' 'Teen' 'Everyone 10+' 'Mature 17+' 'Adults only 18+' 'Unrated'\n",
            " nan]\n",
            "**********************************************************************\n",
            "number of unique values of  Genres  column : 120\n",
            "unique values:\n",
            "['Art & Design' 'Art & Design;Pretend Play' 'Art & Design;Creativity'\n",
            " 'Art & Design;Action & Adventure' 'Auto & Vehicles' 'Beauty'\n",
            " 'Books & Reference' 'Business' 'Comics' 'Comics;Creativity'\n",
            " 'Communication' 'Dating' 'Education;Education' 'Education'\n",
            " 'Education;Creativity' 'Education;Music & Video'\n",
            " 'Education;Action & Adventure' 'Education;Pretend Play'\n",
            " 'Education;Brain Games' 'Entertainment' 'Entertainment;Music & Video'\n",
            " 'Entertainment;Brain Games' 'Entertainment;Creativity' 'Events' 'Finance'\n",
            " 'Food & Drink' 'Health & Fitness' 'House & Home' 'Libraries & Demo'\n",
            " 'Lifestyle' 'Lifestyle;Pretend Play' 'Adventure;Action & Adventure'\n",
            " 'Arcade' 'Casual' 'Card' 'Casual;Pretend Play' 'Action' 'Strategy'\n",
            " 'Puzzle' 'Sports' 'Music' 'Word' 'Racing' 'Casual;Creativity'\n",
            " 'Casual;Action & Adventure' 'Simulation' 'Adventure' 'Board' 'Trivia'\n",
            " 'Role Playing' 'Simulation;Education' 'Action;Action & Adventure'\n",
            " 'Casual;Brain Games' 'Simulation;Action & Adventure'\n",
            " 'Educational;Creativity' 'Puzzle;Brain Games' 'Educational;Education'\n",
            " 'Card;Brain Games' 'Educational;Brain Games' 'Educational;Pretend Play'\n",
            " 'Entertainment;Education' 'Casual;Education' 'Music;Music & Video'\n",
            " 'Racing;Action & Adventure' 'Arcade;Pretend Play'\n",
            " 'Role Playing;Action & Adventure' 'Simulation;Pretend Play'\n",
            " 'Puzzle;Creativity' 'Sports;Action & Adventure'\n",
            " 'Educational;Action & Adventure' 'Arcade;Action & Adventure'\n",
            " 'Entertainment;Action & Adventure' 'Puzzle;Action & Adventure'\n",
            " 'Strategy;Action & Adventure' 'Music & Audio;Music & Video'\n",
            " 'Health & Fitness;Education' 'Adventure;Education' 'Board;Brain Games'\n",
            " 'Board;Action & Adventure' 'Board;Pretend Play' 'Casual;Music & Video'\n",
            " 'Role Playing;Pretend Play' 'Entertainment;Pretend Play'\n",
            " 'Video Players & Editors;Creativity' 'Card;Action & Adventure' 'Medical'\n",
            " 'Social' 'Shopping' 'Photography' 'Travel & Local'\n",
            " 'Travel & Local;Action & Adventure' 'Tools' 'Tools;Education'\n",
            " 'Personalization' 'Productivity' 'Parenting' 'Parenting;Music & Video'\n",
            " 'Parenting;Education' 'Parenting;Brain Games' 'Weather'\n",
            " 'Video Players & Editors' 'Video Players & Editors;Music & Video'\n",
            " 'News & Magazines' 'Maps & Navigation'\n",
            " 'Health & Fitness;Action & Adventure' 'Educational' 'Casino'\n",
            " 'Adventure;Brain Games' 'Trivia;Education' 'Lifestyle;Education'\n",
            " 'Books & Reference;Creativity' 'Books & Reference;Education'\n",
            " 'Puzzle;Education' 'Role Playing;Education' 'Role Playing;Brain Games'\n",
            " 'Strategy;Education' 'Racing;Pretend Play' 'Communication;Creativity'\n",
            " 'February 11, 2018' 'Strategy;Creativity']\n",
            "**********************************************************************\n",
            "number of unique values of  Last_Updated  column : 1377\n",
            "unique values:\n",
            "['07-01-2018' '15-01-2018' '01-08-2018' ... '20-01-2014' '16-02-2014'\n",
            " '23-03-2014']\n",
            "**********************************************************************\n",
            "number of unique values of  Current_Ver  column : 2784\n",
            "unique values:\n",
            "['1.0.0' '2.0.0' '1.2.4' ... '1.0.612928' '0.3.4' '2.0.148.0']\n",
            "**********************************************************************\n",
            "number of unique values of  Android_Ver  column : 33\n",
            "unique values:\n",
            "['4.0.3 and up' '4.2 and up' '4.4 and up' '2.3 and up' '3.0 and up'\n",
            " '4.1 and up' '4.0 and up' '2.3.3 and up' 'Varies with device'\n",
            " '2.2 and up' '5.0 and up' '6.0 and up' '1.6 and up' '1.5 and up'\n",
            " '2.1 and up' '7.0 and up' '5.1 and up' '4.3 and up' '4.0.3 - 7.1.1'\n",
            " '2.0 and up' '3.2 and up' '4.4W and up' '7.1 and up' '7.0 - 7.1.1'\n",
            " '8.0 and up' '5.0 - 8.0' '3.1 and up' '2.0.1 and up' '4.1 - 7.1.1' nan\n",
            " '5.0 - 6.0' '1.0 and up' '2.2 - 7.1.1' '5.0 - 7.1.1']\n"
          ]
        }
      ]
    },
    {
      "cell_type": "markdown",
      "source": [
        "checking number of null values in each columns"
      ],
      "metadata": {
        "id": "JNfKzE_Q4yiJ"
      }
    },
    {
      "cell_type": "code",
      "source": [
        "playstore_apps.isna().sum()"
      ],
      "metadata": {
        "colab": {
          "base_uri": "https://localhost:8080/"
        },
        "id": "l7y7ZlnN4vN0",
        "outputId": "9f2d65a6-bcae-48ab-b9a6-74bd525bcbc3"
      },
      "execution_count": 50,
      "outputs": [
        {
          "output_type": "execute_result",
          "data": {
            "text/plain": [
              "Category             0\n",
              "Rating            1474\n",
              "Reviews              1\n",
              "Size                 0\n",
              "Installs             1\n",
              "Type                 1\n",
              "Price                1\n",
              "Content_Rating       1\n",
              "Genres               0\n",
              "Last_Updated         1\n",
              "Current_Ver          8\n",
              "Android_Ver          3\n",
              "dtype: int64"
            ]
          },
          "metadata": {},
          "execution_count": 50
        }
      ]
    },
    {
      "cell_type": "markdown",
      "source": [
        "finding out the number of duplicate rows"
      ],
      "metadata": {
        "id": "JvPa6T0U4n0y"
      }
    },
    {
      "cell_type": "code",
      "source": [
        "playstore_apps[playstore_apps.duplicated()]"
      ],
      "metadata": {
        "colab": {
          "base_uri": "https://localhost:8080/",
          "height": 455
        },
        "id": "MZLtW8Mm_kpm",
        "outputId": "89c39595-9b7b-4ea7-be18-58dfc08fff0f"
      },
      "execution_count": 12,
      "outputs": [
        {
          "output_type": "execute_result",
          "data": {
            "text/plain": [
              "                              Category  Rating   Reviews                Size  \\\n",
              "App                                                                            \n",
              "Quick PDF Scanner + OCR FREE  BUSINESS     4.2   80805.0  Varies with device   \n",
              "Box                           BUSINESS     4.2  159872.0  Varies with device   \n",
              "Google My Business            BUSINESS     4.4   70991.0  Varies with device   \n",
              "ZOOM Cloud Meetings           BUSINESS     4.4   31614.0                 37M   \n",
              "join.me - Simple Meetings     BUSINESS     4.0    6989.0  Varies with device   \n",
              "...                                ...     ...       ...                 ...   \n",
              "FK Vozdovac                     SPORTS     NaN       1.0                 26M   \n",
              "FK Zemun                        SPORTS     NaN       3.0                 26M   \n",
              "FK Spartak Subotica             SPORTS     NaN       0.0                 26M   \n",
              "AAFP                           MEDICAL     3.8      63.0                 24M   \n",
              "SnakeBite911 FR                MEDICAL     NaN       1.0                 42M   \n",
              "\n",
              "                                Installs  Type  Price Content_Rating  \\\n",
              "App                                                                    \n",
              "Quick PDF Scanner + OCR FREE   5000000.0  Free    0.0       Everyone   \n",
              "Box                           10000000.0  Free    0.0       Everyone   \n",
              "Google My Business             5000000.0  Free    0.0       Everyone   \n",
              "ZOOM Cloud Meetings           10000000.0  Free    0.0       Everyone   \n",
              "join.me - Simple Meetings      1000000.0  Free    0.0       Everyone   \n",
              "...                                  ...   ...    ...            ...   \n",
              "FK Vozdovac                         10.0  Free    0.0       Everyone   \n",
              "FK Zemun                            10.0  Free    0.0       Everyone   \n",
              "FK Spartak Subotica                 10.0  Free    0.0       Everyone   \n",
              "AAFP                             10000.0  Free    0.0       Everyone   \n",
              "SnakeBite911 FR                    500.0  Free    0.0       Everyone   \n",
              "\n",
              "                                Genres Last_Updated         Current_Ver  \\\n",
              "App                                                                       \n",
              "Quick PDF Scanner + OCR FREE  Business   26-02-2018  Varies with device   \n",
              "Box                           Business   31-07-2018  Varies with device   \n",
              "Google My Business            Business   24-07-2018    2.19.0.204537701   \n",
              "ZOOM Cloud Meetings           Business   20-07-2018      4.1.28165.0716   \n",
              "join.me - Simple Meetings     Business   16-07-2018           4.3.0.508   \n",
              "...                                ...          ...                 ...   \n",
              "FK Vozdovac                     Sports   19-02-2018                   1   \n",
              "FK Zemun                        Sports   19-02-2018                   1   \n",
              "FK Spartak Subotica             Sports   19-02-2018                   1   \n",
              "AAFP                           Medical   22-06-2018               2.3.1   \n",
              "SnakeBite911 FR                Medical   09-10-2017                 1.2   \n",
              "\n",
              "                                     Android_Ver  \n",
              "App                                               \n",
              "Quick PDF Scanner + OCR FREE        4.0.3 and up  \n",
              "Box                           Varies with device  \n",
              "Google My Business                    4.4 and up  \n",
              "ZOOM Cloud Meetings                   4.0 and up  \n",
              "join.me - Simple Meetings             4.4 and up  \n",
              "...                                          ...  \n",
              "FK Vozdovac                           4.1 and up  \n",
              "FK Zemun                              4.1 and up  \n",
              "FK Spartak Subotica                   4.1 and up  \n",
              "AAFP                                  5.0 and up  \n",
              "SnakeBite911 FR                       4.1 and up  \n",
              "\n",
              "[492 rows x 12 columns]"
            ],
            "text/html": [
              "\n",
              "  <div id=\"df-4aaaf2da-2653-436c-8cdf-514fe286be83\">\n",
              "    <div class=\"colab-df-container\">\n",
              "      <div>\n",
              "<style scoped>\n",
              "    .dataframe tbody tr th:only-of-type {\n",
              "        vertical-align: middle;\n",
              "    }\n",
              "\n",
              "    .dataframe tbody tr th {\n",
              "        vertical-align: top;\n",
              "    }\n",
              "\n",
              "    .dataframe thead th {\n",
              "        text-align: right;\n",
              "    }\n",
              "</style>\n",
              "<table border=\"1\" class=\"dataframe\">\n",
              "  <thead>\n",
              "    <tr style=\"text-align: right;\">\n",
              "      <th></th>\n",
              "      <th>Category</th>\n",
              "      <th>Rating</th>\n",
              "      <th>Reviews</th>\n",
              "      <th>Size</th>\n",
              "      <th>Installs</th>\n",
              "      <th>Type</th>\n",
              "      <th>Price</th>\n",
              "      <th>Content_Rating</th>\n",
              "      <th>Genres</th>\n",
              "      <th>Last_Updated</th>\n",
              "      <th>Current_Ver</th>\n",
              "      <th>Android_Ver</th>\n",
              "    </tr>\n",
              "    <tr>\n",
              "      <th>App</th>\n",
              "      <th></th>\n",
              "      <th></th>\n",
              "      <th></th>\n",
              "      <th></th>\n",
              "      <th></th>\n",
              "      <th></th>\n",
              "      <th></th>\n",
              "      <th></th>\n",
              "      <th></th>\n",
              "      <th></th>\n",
              "      <th></th>\n",
              "      <th></th>\n",
              "    </tr>\n",
              "  </thead>\n",
              "  <tbody>\n",
              "    <tr>\n",
              "      <th>Quick PDF Scanner + OCR FREE</th>\n",
              "      <td>BUSINESS</td>\n",
              "      <td>4.2</td>\n",
              "      <td>80805.0</td>\n",
              "      <td>Varies with device</td>\n",
              "      <td>5000000.0</td>\n",
              "      <td>Free</td>\n",
              "      <td>0.0</td>\n",
              "      <td>Everyone</td>\n",
              "      <td>Business</td>\n",
              "      <td>26-02-2018</td>\n",
              "      <td>Varies with device</td>\n",
              "      <td>4.0.3 and up</td>\n",
              "    </tr>\n",
              "    <tr>\n",
              "      <th>Box</th>\n",
              "      <td>BUSINESS</td>\n",
              "      <td>4.2</td>\n",
              "      <td>159872.0</td>\n",
              "      <td>Varies with device</td>\n",
              "      <td>10000000.0</td>\n",
              "      <td>Free</td>\n",
              "      <td>0.0</td>\n",
              "      <td>Everyone</td>\n",
              "      <td>Business</td>\n",
              "      <td>31-07-2018</td>\n",
              "      <td>Varies with device</td>\n",
              "      <td>Varies with device</td>\n",
              "    </tr>\n",
              "    <tr>\n",
              "      <th>Google My Business</th>\n",
              "      <td>BUSINESS</td>\n",
              "      <td>4.4</td>\n",
              "      <td>70991.0</td>\n",
              "      <td>Varies with device</td>\n",
              "      <td>5000000.0</td>\n",
              "      <td>Free</td>\n",
              "      <td>0.0</td>\n",
              "      <td>Everyone</td>\n",
              "      <td>Business</td>\n",
              "      <td>24-07-2018</td>\n",
              "      <td>2.19.0.204537701</td>\n",
              "      <td>4.4 and up</td>\n",
              "    </tr>\n",
              "    <tr>\n",
              "      <th>ZOOM Cloud Meetings</th>\n",
              "      <td>BUSINESS</td>\n",
              "      <td>4.4</td>\n",
              "      <td>31614.0</td>\n",
              "      <td>37M</td>\n",
              "      <td>10000000.0</td>\n",
              "      <td>Free</td>\n",
              "      <td>0.0</td>\n",
              "      <td>Everyone</td>\n",
              "      <td>Business</td>\n",
              "      <td>20-07-2018</td>\n",
              "      <td>4.1.28165.0716</td>\n",
              "      <td>4.0 and up</td>\n",
              "    </tr>\n",
              "    <tr>\n",
              "      <th>join.me - Simple Meetings</th>\n",
              "      <td>BUSINESS</td>\n",
              "      <td>4.0</td>\n",
              "      <td>6989.0</td>\n",
              "      <td>Varies with device</td>\n",
              "      <td>1000000.0</td>\n",
              "      <td>Free</td>\n",
              "      <td>0.0</td>\n",
              "      <td>Everyone</td>\n",
              "      <td>Business</td>\n",
              "      <td>16-07-2018</td>\n",
              "      <td>4.3.0.508</td>\n",
              "      <td>4.4 and up</td>\n",
              "    </tr>\n",
              "    <tr>\n",
              "      <th>...</th>\n",
              "      <td>...</td>\n",
              "      <td>...</td>\n",
              "      <td>...</td>\n",
              "      <td>...</td>\n",
              "      <td>...</td>\n",
              "      <td>...</td>\n",
              "      <td>...</td>\n",
              "      <td>...</td>\n",
              "      <td>...</td>\n",
              "      <td>...</td>\n",
              "      <td>...</td>\n",
              "      <td>...</td>\n",
              "    </tr>\n",
              "    <tr>\n",
              "      <th>FK Vozdovac</th>\n",
              "      <td>SPORTS</td>\n",
              "      <td>NaN</td>\n",
              "      <td>1.0</td>\n",
              "      <td>26M</td>\n",
              "      <td>10.0</td>\n",
              "      <td>Free</td>\n",
              "      <td>0.0</td>\n",
              "      <td>Everyone</td>\n",
              "      <td>Sports</td>\n",
              "      <td>19-02-2018</td>\n",
              "      <td>1</td>\n",
              "      <td>4.1 and up</td>\n",
              "    </tr>\n",
              "    <tr>\n",
              "      <th>FK Zemun</th>\n",
              "      <td>SPORTS</td>\n",
              "      <td>NaN</td>\n",
              "      <td>3.0</td>\n",
              "      <td>26M</td>\n",
              "      <td>10.0</td>\n",
              "      <td>Free</td>\n",
              "      <td>0.0</td>\n",
              "      <td>Everyone</td>\n",
              "      <td>Sports</td>\n",
              "      <td>19-02-2018</td>\n",
              "      <td>1</td>\n",
              "      <td>4.1 and up</td>\n",
              "    </tr>\n",
              "    <tr>\n",
              "      <th>FK Spartak Subotica</th>\n",
              "      <td>SPORTS</td>\n",
              "      <td>NaN</td>\n",
              "      <td>0.0</td>\n",
              "      <td>26M</td>\n",
              "      <td>10.0</td>\n",
              "      <td>Free</td>\n",
              "      <td>0.0</td>\n",
              "      <td>Everyone</td>\n",
              "      <td>Sports</td>\n",
              "      <td>19-02-2018</td>\n",
              "      <td>1</td>\n",
              "      <td>4.1 and up</td>\n",
              "    </tr>\n",
              "    <tr>\n",
              "      <th>AAFP</th>\n",
              "      <td>MEDICAL</td>\n",
              "      <td>3.8</td>\n",
              "      <td>63.0</td>\n",
              "      <td>24M</td>\n",
              "      <td>10000.0</td>\n",
              "      <td>Free</td>\n",
              "      <td>0.0</td>\n",
              "      <td>Everyone</td>\n",
              "      <td>Medical</td>\n",
              "      <td>22-06-2018</td>\n",
              "      <td>2.3.1</td>\n",
              "      <td>5.0 and up</td>\n",
              "    </tr>\n",
              "    <tr>\n",
              "      <th>SnakeBite911 FR</th>\n",
              "      <td>MEDICAL</td>\n",
              "      <td>NaN</td>\n",
              "      <td>1.0</td>\n",
              "      <td>42M</td>\n",
              "      <td>500.0</td>\n",
              "      <td>Free</td>\n",
              "      <td>0.0</td>\n",
              "      <td>Everyone</td>\n",
              "      <td>Medical</td>\n",
              "      <td>09-10-2017</td>\n",
              "      <td>1.2</td>\n",
              "      <td>4.1 and up</td>\n",
              "    </tr>\n",
              "  </tbody>\n",
              "</table>\n",
              "<p>492 rows × 12 columns</p>\n",
              "</div>\n",
              "      <button class=\"colab-df-convert\" onclick=\"convertToInteractive('df-4aaaf2da-2653-436c-8cdf-514fe286be83')\"\n",
              "              title=\"Convert this dataframe to an interactive table.\"\n",
              "              style=\"display:none;\">\n",
              "        \n",
              "  <svg xmlns=\"http://www.w3.org/2000/svg\" height=\"24px\"viewBox=\"0 0 24 24\"\n",
              "       width=\"24px\">\n",
              "    <path d=\"M0 0h24v24H0V0z\" fill=\"none\"/>\n",
              "    <path d=\"M18.56 5.44l.94 2.06.94-2.06 2.06-.94-2.06-.94-.94-2.06-.94 2.06-2.06.94zm-11 1L8.5 8.5l.94-2.06 2.06-.94-2.06-.94L8.5 2.5l-.94 2.06-2.06.94zm10 10l.94 2.06.94-2.06 2.06-.94-2.06-.94-.94-2.06-.94 2.06-2.06.94z\"/><path d=\"M17.41 7.96l-1.37-1.37c-.4-.4-.92-.59-1.43-.59-.52 0-1.04.2-1.43.59L10.3 9.45l-7.72 7.72c-.78.78-.78 2.05 0 2.83L4 21.41c.39.39.9.59 1.41.59.51 0 1.02-.2 1.41-.59l7.78-7.78 2.81-2.81c.8-.78.8-2.07 0-2.86zM5.41 20L4 18.59l7.72-7.72 1.47 1.35L5.41 20z\"/>\n",
              "  </svg>\n",
              "      </button>\n",
              "      \n",
              "  <style>\n",
              "    .colab-df-container {\n",
              "      display:flex;\n",
              "      flex-wrap:wrap;\n",
              "      gap: 12px;\n",
              "    }\n",
              "\n",
              "    .colab-df-convert {\n",
              "      background-color: #E8F0FE;\n",
              "      border: none;\n",
              "      border-radius: 50%;\n",
              "      cursor: pointer;\n",
              "      display: none;\n",
              "      fill: #1967D2;\n",
              "      height: 32px;\n",
              "      padding: 0 0 0 0;\n",
              "      width: 32px;\n",
              "    }\n",
              "\n",
              "    .colab-df-convert:hover {\n",
              "      background-color: #E2EBFA;\n",
              "      box-shadow: 0px 1px 2px rgba(60, 64, 67, 0.3), 0px 1px 3px 1px rgba(60, 64, 67, 0.15);\n",
              "      fill: #174EA6;\n",
              "    }\n",
              "\n",
              "    [theme=dark] .colab-df-convert {\n",
              "      background-color: #3B4455;\n",
              "      fill: #D2E3FC;\n",
              "    }\n",
              "\n",
              "    [theme=dark] .colab-df-convert:hover {\n",
              "      background-color: #434B5C;\n",
              "      box-shadow: 0px 1px 3px 1px rgba(0, 0, 0, 0.15);\n",
              "      filter: drop-shadow(0px 1px 2px rgba(0, 0, 0, 0.3));\n",
              "      fill: #FFFFFF;\n",
              "    }\n",
              "  </style>\n",
              "\n",
              "      <script>\n",
              "        const buttonEl =\n",
              "          document.querySelector('#df-4aaaf2da-2653-436c-8cdf-514fe286be83 button.colab-df-convert');\n",
              "        buttonEl.style.display =\n",
              "          google.colab.kernel.accessAllowed ? 'block' : 'none';\n",
              "\n",
              "        async function convertToInteractive(key) {\n",
              "          const element = document.querySelector('#df-4aaaf2da-2653-436c-8cdf-514fe286be83');\n",
              "          const dataTable =\n",
              "            await google.colab.kernel.invokeFunction('convertToInteractive',\n",
              "                                                     [key], {});\n",
              "          if (!dataTable) return;\n",
              "\n",
              "          const docLinkHtml = 'Like what you see? Visit the ' +\n",
              "            '<a target=\"_blank\" href=https://colab.research.google.com/notebooks/data_table.ipynb>data table notebook</a>'\n",
              "            + ' to learn more about interactive tables.';\n",
              "          element.innerHTML = '';\n",
              "          dataTable['output_type'] = 'display_data';\n",
              "          await google.colab.output.renderOutput(dataTable, element);\n",
              "          const docLink = document.createElement('div');\n",
              "          docLink.innerHTML = docLinkHtml;\n",
              "          element.appendChild(docLink);\n",
              "        }\n",
              "      </script>\n",
              "    </div>\n",
              "  </div>\n",
              "  "
            ]
          },
          "metadata": {},
          "execution_count": 12
        }
      ]
    },
    {
      "cell_type": "code",
      "source": [
        "playstore_apps.duplicated().sum()"
      ],
      "metadata": {
        "colab": {
          "base_uri": "https://localhost:8080/"
        },
        "id": "_7rUPQ39Bj4u",
        "outputId": "5719eaaa-3147-42e0-cc50-ac967903dbb1"
      },
      "execution_count": 51,
      "outputs": [
        {
          "output_type": "execute_result",
          "data": {
            "text/plain": [
              "492"
            ]
          },
          "metadata": {},
          "execution_count": 51
        }
      ]
    },
    {
      "cell_type": "code",
      "source": [
        "playstore_apps.shape"
      ],
      "metadata": {
        "colab": {
          "base_uri": "https://localhost:8080/"
        },
        "id": "p6Rm-JHBAbSJ",
        "outputId": "5d001f0e-63dc-4388-c981-a2c7995adf95"
      },
      "execution_count": 14,
      "outputs": [
        {
          "output_type": "execute_result",
          "data": {
            "text/plain": [
              "(10841, 12)"
            ]
          },
          "metadata": {},
          "execution_count": 14
        }
      ]
    },
    {
      "cell_type": "markdown",
      "source": [
        "483 rows are duplicated rows so removing those rows from the dataframe"
      ],
      "metadata": {
        "id": "aWNg-UrbAkOo"
      }
    },
    {
      "cell_type": "code",
      "source": [
        "playstore_apps.drop_duplicates(keep=False,inplace=True)"
      ],
      "metadata": {
        "id": "a5lMEM1yArXZ"
      },
      "execution_count": 52,
      "outputs": []
    },
    {
      "cell_type": "code",
      "source": [
        "playstore_apps.shape"
      ],
      "metadata": {
        "colab": {
          "base_uri": "https://localhost:8080/"
        },
        "id": "0IwLqqMqBwDv",
        "outputId": "ac9f460b-5e11-4767-f5bd-fe8ae1bf12c6"
      },
      "execution_count": 53,
      "outputs": [
        {
          "output_type": "execute_result",
          "data": {
            "text/plain": [
              "(9930, 12)"
            ]
          },
          "metadata": {},
          "execution_count": 53
        }
      ]
    },
    {
      "cell_type": "markdown",
      "source": [
        "printing unique values of each column"
      ],
      "metadata": {
        "id": "_C345IjeE9QQ"
      }
    },
    {
      "cell_type": "markdown",
      "source": [
        "checking the number and corresponding percentage of null value in the data"
      ],
      "metadata": {
        "id": "6fCd0pagEpIQ"
      }
    },
    {
      "cell_type": "code",
      "source": [
        "def no_perc_null(df):\n",
        "    no_of_null=df.isnull().sum()\n",
        "    percentage_of_null=df.isnull().sum()/len(df)*100\n",
        "    dtypecol=df.dtypes\n",
        "    null_val=pd.concat([no_of_null,percentage_of_null,dtypecol],axis=1)\n",
        "    null_val_new=null_val.rename(columns={0:\"Null values\",1:\"Percentage\",2:\"Dataype\"})\n",
        "    return null_val_new\n",
        "no_perc_null(playstore_apps)"
      ],
      "metadata": {
        "colab": {
          "base_uri": "https://localhost:8080/",
          "height": 426
        },
        "id": "x57s0m3HAjXm",
        "outputId": "9abcc6bd-44c9-4697-e358-aed31d609fea"
      },
      "execution_count": 18,
      "outputs": [
        {
          "output_type": "execute_result",
          "data": {
            "text/plain": [
              "                Null values  Percentage  Dataype\n",
              "Category                  0    0.000000   object\n",
              "Rating                 1443   14.531722  float64\n",
              "Reviews                   1    0.010070  float64\n",
              "Size                      0    0.000000   object\n",
              "Installs                  1    0.010070  float64\n",
              "Type                      1    0.010070   object\n",
              "Price                     1    0.010070  float64\n",
              "Content_Rating            1    0.010070   object\n",
              "Genres                    0    0.000000   object\n",
              "Last_Updated              1    0.010070   object\n",
              "Current_Ver               8    0.080564   object\n",
              "Android_Ver               3    0.030211   object"
            ],
            "text/html": [
              "\n",
              "  <div id=\"df-8ecd4922-d28f-468a-9724-a4fb936f758d\">\n",
              "    <div class=\"colab-df-container\">\n",
              "      <div>\n",
              "<style scoped>\n",
              "    .dataframe tbody tr th:only-of-type {\n",
              "        vertical-align: middle;\n",
              "    }\n",
              "\n",
              "    .dataframe tbody tr th {\n",
              "        vertical-align: top;\n",
              "    }\n",
              "\n",
              "    .dataframe thead th {\n",
              "        text-align: right;\n",
              "    }\n",
              "</style>\n",
              "<table border=\"1\" class=\"dataframe\">\n",
              "  <thead>\n",
              "    <tr style=\"text-align: right;\">\n",
              "      <th></th>\n",
              "      <th>Null values</th>\n",
              "      <th>Percentage</th>\n",
              "      <th>Dataype</th>\n",
              "    </tr>\n",
              "  </thead>\n",
              "  <tbody>\n",
              "    <tr>\n",
              "      <th>Category</th>\n",
              "      <td>0</td>\n",
              "      <td>0.000000</td>\n",
              "      <td>object</td>\n",
              "    </tr>\n",
              "    <tr>\n",
              "      <th>Rating</th>\n",
              "      <td>1443</td>\n",
              "      <td>14.531722</td>\n",
              "      <td>float64</td>\n",
              "    </tr>\n",
              "    <tr>\n",
              "      <th>Reviews</th>\n",
              "      <td>1</td>\n",
              "      <td>0.010070</td>\n",
              "      <td>float64</td>\n",
              "    </tr>\n",
              "    <tr>\n",
              "      <th>Size</th>\n",
              "      <td>0</td>\n",
              "      <td>0.000000</td>\n",
              "      <td>object</td>\n",
              "    </tr>\n",
              "    <tr>\n",
              "      <th>Installs</th>\n",
              "      <td>1</td>\n",
              "      <td>0.010070</td>\n",
              "      <td>float64</td>\n",
              "    </tr>\n",
              "    <tr>\n",
              "      <th>Type</th>\n",
              "      <td>1</td>\n",
              "      <td>0.010070</td>\n",
              "      <td>object</td>\n",
              "    </tr>\n",
              "    <tr>\n",
              "      <th>Price</th>\n",
              "      <td>1</td>\n",
              "      <td>0.010070</td>\n",
              "      <td>float64</td>\n",
              "    </tr>\n",
              "    <tr>\n",
              "      <th>Content_Rating</th>\n",
              "      <td>1</td>\n",
              "      <td>0.010070</td>\n",
              "      <td>object</td>\n",
              "    </tr>\n",
              "    <tr>\n",
              "      <th>Genres</th>\n",
              "      <td>0</td>\n",
              "      <td>0.000000</td>\n",
              "      <td>object</td>\n",
              "    </tr>\n",
              "    <tr>\n",
              "      <th>Last_Updated</th>\n",
              "      <td>1</td>\n",
              "      <td>0.010070</td>\n",
              "      <td>object</td>\n",
              "    </tr>\n",
              "    <tr>\n",
              "      <th>Current_Ver</th>\n",
              "      <td>8</td>\n",
              "      <td>0.080564</td>\n",
              "      <td>object</td>\n",
              "    </tr>\n",
              "    <tr>\n",
              "      <th>Android_Ver</th>\n",
              "      <td>3</td>\n",
              "      <td>0.030211</td>\n",
              "      <td>object</td>\n",
              "    </tr>\n",
              "  </tbody>\n",
              "</table>\n",
              "</div>\n",
              "      <button class=\"colab-df-convert\" onclick=\"convertToInteractive('df-8ecd4922-d28f-468a-9724-a4fb936f758d')\"\n",
              "              title=\"Convert this dataframe to an interactive table.\"\n",
              "              style=\"display:none;\">\n",
              "        \n",
              "  <svg xmlns=\"http://www.w3.org/2000/svg\" height=\"24px\"viewBox=\"0 0 24 24\"\n",
              "       width=\"24px\">\n",
              "    <path d=\"M0 0h24v24H0V0z\" fill=\"none\"/>\n",
              "    <path d=\"M18.56 5.44l.94 2.06.94-2.06 2.06-.94-2.06-.94-.94-2.06-.94 2.06-2.06.94zm-11 1L8.5 8.5l.94-2.06 2.06-.94-2.06-.94L8.5 2.5l-.94 2.06-2.06.94zm10 10l.94 2.06.94-2.06 2.06-.94-2.06-.94-.94-2.06-.94 2.06-2.06.94z\"/><path d=\"M17.41 7.96l-1.37-1.37c-.4-.4-.92-.59-1.43-.59-.52 0-1.04.2-1.43.59L10.3 9.45l-7.72 7.72c-.78.78-.78 2.05 0 2.83L4 21.41c.39.39.9.59 1.41.59.51 0 1.02-.2 1.41-.59l7.78-7.78 2.81-2.81c.8-.78.8-2.07 0-2.86zM5.41 20L4 18.59l7.72-7.72 1.47 1.35L5.41 20z\"/>\n",
              "  </svg>\n",
              "      </button>\n",
              "      \n",
              "  <style>\n",
              "    .colab-df-container {\n",
              "      display:flex;\n",
              "      flex-wrap:wrap;\n",
              "      gap: 12px;\n",
              "    }\n",
              "\n",
              "    .colab-df-convert {\n",
              "      background-color: #E8F0FE;\n",
              "      border: none;\n",
              "      border-radius: 50%;\n",
              "      cursor: pointer;\n",
              "      display: none;\n",
              "      fill: #1967D2;\n",
              "      height: 32px;\n",
              "      padding: 0 0 0 0;\n",
              "      width: 32px;\n",
              "    }\n",
              "\n",
              "    .colab-df-convert:hover {\n",
              "      background-color: #E2EBFA;\n",
              "      box-shadow: 0px 1px 2px rgba(60, 64, 67, 0.3), 0px 1px 3px 1px rgba(60, 64, 67, 0.15);\n",
              "      fill: #174EA6;\n",
              "    }\n",
              "\n",
              "    [theme=dark] .colab-df-convert {\n",
              "      background-color: #3B4455;\n",
              "      fill: #D2E3FC;\n",
              "    }\n",
              "\n",
              "    [theme=dark] .colab-df-convert:hover {\n",
              "      background-color: #434B5C;\n",
              "      box-shadow: 0px 1px 3px 1px rgba(0, 0, 0, 0.15);\n",
              "      filter: drop-shadow(0px 1px 2px rgba(0, 0, 0, 0.3));\n",
              "      fill: #FFFFFF;\n",
              "    }\n",
              "  </style>\n",
              "\n",
              "      <script>\n",
              "        const buttonEl =\n",
              "          document.querySelector('#df-8ecd4922-d28f-468a-9724-a4fb936f758d button.colab-df-convert');\n",
              "        buttonEl.style.display =\n",
              "          google.colab.kernel.accessAllowed ? 'block' : 'none';\n",
              "\n",
              "        async function convertToInteractive(key) {\n",
              "          const element = document.querySelector('#df-8ecd4922-d28f-468a-9724-a4fb936f758d');\n",
              "          const dataTable =\n",
              "            await google.colab.kernel.invokeFunction('convertToInteractive',\n",
              "                                                     [key], {});\n",
              "          if (!dataTable) return;\n",
              "\n",
              "          const docLinkHtml = 'Like what you see? Visit the ' +\n",
              "            '<a target=\"_blank\" href=https://colab.research.google.com/notebooks/data_table.ipynb>data table notebook</a>'\n",
              "            + ' to learn more about interactive tables.';\n",
              "          element.innerHTML = '';\n",
              "          dataTable['output_type'] = 'display_data';\n",
              "          await google.colab.output.renderOutput(dataTable, element);\n",
              "          const docLink = document.createElement('div');\n",
              "          docLink.innerHTML = docLinkHtml;\n",
              "          element.appendChild(docLink);\n",
              "        }\n",
              "      </script>\n",
              "    </div>\n",
              "  </div>\n",
              "  "
            ]
          },
          "metadata": {},
          "execution_count": 18
        }
      ]
    },
    {
      "cell_type": "markdown",
      "source": [
        "Treatment of unique an d null values column wise"
      ],
      "metadata": {
        "id": "w5lOKhfkJ1IR"
      }
    },
    {
      "cell_type": "markdown",
      "source": [
        "column:Category"
      ],
      "metadata": {
        "id": "lyz1i2JGNT0K"
      }
    },
    {
      "cell_type": "code",
      "source": [
        "print(playstore_apps.Category.nunique())\n",
        "print(playstore_apps.Category.unique())"
      ],
      "metadata": {
        "colab": {
          "base_uri": "https://localhost:8080/"
        },
        "id": "hE94UiWvNZ-b",
        "outputId": "e71fd452-758b-4b74-c922-b2822ba123a5"
      },
      "execution_count": 54,
      "outputs": [
        {
          "output_type": "stream",
          "name": "stdout",
          "text": [
            "34\n",
            "['ART_AND_DESIGN' 'AUTO_AND_VEHICLES' 'BEAUTY' 'BOOKS_AND_REFERENCE'\n",
            " 'BUSINESS' 'COMICS' 'COMMUNICATION' 'DATING' 'EDUCATION' 'ENTERTAINMENT'\n",
            " 'EVENTS' 'FINANCE' 'FOOD_AND_DRINK' 'HEALTH_AND_FITNESS' 'HOUSE_AND_HOME'\n",
            " 'LIBRARIES_AND_DEMO' 'LIFESTYLE' 'GAME' 'FAMILY' 'MEDICAL' 'SOCIAL'\n",
            " 'SHOPPING' 'PHOTOGRAPHY' 'SPORTS' 'TRAVEL_AND_LOCAL' 'TOOLS'\n",
            " 'PERSONALIZATION' 'PRODUCTIVITY' 'PARENTING' 'WEATHER' 'VIDEO_PLAYERS'\n",
            " 'NEWS_AND_MAGAZINES' 'MAPS_AND_NAVIGATION' '1.9']\n"
          ]
        }
      ]
    },
    {
      "cell_type": "code",
      "source": [
        "playstore_apps[playstore_apps[\"Category\"]==\"1.9\"]"
      ],
      "metadata": {
        "colab": {
          "base_uri": "https://localhost:8080/",
          "height": 112
        },
        "id": "Ze3lSBv0NrAE",
        "outputId": "ccf48738-7ce4-4f97-bb43-d0604abc4047"
      },
      "execution_count": 55,
      "outputs": [
        {
          "output_type": "execute_result",
          "data": {
            "text/plain": [
              "                                        Category  Rating  Reviews    Size  \\\n",
              "App                                                                         \n",
              "Life Made WI-Fi Touchscreen Photo Frame      1.9    19.0      NaN  1,000+   \n",
              "\n",
              "                                         Installs Type  Price Content_Rating  \\\n",
              "App                                                                            \n",
              "Life Made WI-Fi Touchscreen Photo Frame       NaN    0    NaN            NaN   \n",
              "\n",
              "                                                    Genres Last_Updated  \\\n",
              "App                                                                       \n",
              "Life Made WI-Fi Touchscreen Photo Frame  February 11, 2018          NaN   \n",
              "\n",
              "                                        Current_Ver Android_Ver  \n",
              "App                                                              \n",
              "Life Made WI-Fi Touchscreen Photo Frame  4.0 and up         NaN  "
            ],
            "text/html": [
              "\n",
              "  <div id=\"df-ca87738a-b01e-4c9a-b8ed-37b28fa2dc1d\">\n",
              "    <div class=\"colab-df-container\">\n",
              "      <div>\n",
              "<style scoped>\n",
              "    .dataframe tbody tr th:only-of-type {\n",
              "        vertical-align: middle;\n",
              "    }\n",
              "\n",
              "    .dataframe tbody tr th {\n",
              "        vertical-align: top;\n",
              "    }\n",
              "\n",
              "    .dataframe thead th {\n",
              "        text-align: right;\n",
              "    }\n",
              "</style>\n",
              "<table border=\"1\" class=\"dataframe\">\n",
              "  <thead>\n",
              "    <tr style=\"text-align: right;\">\n",
              "      <th></th>\n",
              "      <th>Category</th>\n",
              "      <th>Rating</th>\n",
              "      <th>Reviews</th>\n",
              "      <th>Size</th>\n",
              "      <th>Installs</th>\n",
              "      <th>Type</th>\n",
              "      <th>Price</th>\n",
              "      <th>Content_Rating</th>\n",
              "      <th>Genres</th>\n",
              "      <th>Last_Updated</th>\n",
              "      <th>Current_Ver</th>\n",
              "      <th>Android_Ver</th>\n",
              "    </tr>\n",
              "    <tr>\n",
              "      <th>App</th>\n",
              "      <th></th>\n",
              "      <th></th>\n",
              "      <th></th>\n",
              "      <th></th>\n",
              "      <th></th>\n",
              "      <th></th>\n",
              "      <th></th>\n",
              "      <th></th>\n",
              "      <th></th>\n",
              "      <th></th>\n",
              "      <th></th>\n",
              "      <th></th>\n",
              "    </tr>\n",
              "  </thead>\n",
              "  <tbody>\n",
              "    <tr>\n",
              "      <th>Life Made WI-Fi Touchscreen Photo Frame</th>\n",
              "      <td>1.9</td>\n",
              "      <td>19.0</td>\n",
              "      <td>NaN</td>\n",
              "      <td>1,000+</td>\n",
              "      <td>NaN</td>\n",
              "      <td>0</td>\n",
              "      <td>NaN</td>\n",
              "      <td>NaN</td>\n",
              "      <td>February 11, 2018</td>\n",
              "      <td>NaN</td>\n",
              "      <td>4.0 and up</td>\n",
              "      <td>NaN</td>\n",
              "    </tr>\n",
              "  </tbody>\n",
              "</table>\n",
              "</div>\n",
              "      <button class=\"colab-df-convert\" onclick=\"convertToInteractive('df-ca87738a-b01e-4c9a-b8ed-37b28fa2dc1d')\"\n",
              "              title=\"Convert this dataframe to an interactive table.\"\n",
              "              style=\"display:none;\">\n",
              "        \n",
              "  <svg xmlns=\"http://www.w3.org/2000/svg\" height=\"24px\"viewBox=\"0 0 24 24\"\n",
              "       width=\"24px\">\n",
              "    <path d=\"M0 0h24v24H0V0z\" fill=\"none\"/>\n",
              "    <path d=\"M18.56 5.44l.94 2.06.94-2.06 2.06-.94-2.06-.94-.94-2.06-.94 2.06-2.06.94zm-11 1L8.5 8.5l.94-2.06 2.06-.94-2.06-.94L8.5 2.5l-.94 2.06-2.06.94zm10 10l.94 2.06.94-2.06 2.06-.94-2.06-.94-.94-2.06-.94 2.06-2.06.94z\"/><path d=\"M17.41 7.96l-1.37-1.37c-.4-.4-.92-.59-1.43-.59-.52 0-1.04.2-1.43.59L10.3 9.45l-7.72 7.72c-.78.78-.78 2.05 0 2.83L4 21.41c.39.39.9.59 1.41.59.51 0 1.02-.2 1.41-.59l7.78-7.78 2.81-2.81c.8-.78.8-2.07 0-2.86zM5.41 20L4 18.59l7.72-7.72 1.47 1.35L5.41 20z\"/>\n",
              "  </svg>\n",
              "      </button>\n",
              "      \n",
              "  <style>\n",
              "    .colab-df-container {\n",
              "      display:flex;\n",
              "      flex-wrap:wrap;\n",
              "      gap: 12px;\n",
              "    }\n",
              "\n",
              "    .colab-df-convert {\n",
              "      background-color: #E8F0FE;\n",
              "      border: none;\n",
              "      border-radius: 50%;\n",
              "      cursor: pointer;\n",
              "      display: none;\n",
              "      fill: #1967D2;\n",
              "      height: 32px;\n",
              "      padding: 0 0 0 0;\n",
              "      width: 32px;\n",
              "    }\n",
              "\n",
              "    .colab-df-convert:hover {\n",
              "      background-color: #E2EBFA;\n",
              "      box-shadow: 0px 1px 2px rgba(60, 64, 67, 0.3), 0px 1px 3px 1px rgba(60, 64, 67, 0.15);\n",
              "      fill: #174EA6;\n",
              "    }\n",
              "\n",
              "    [theme=dark] .colab-df-convert {\n",
              "      background-color: #3B4455;\n",
              "      fill: #D2E3FC;\n",
              "    }\n",
              "\n",
              "    [theme=dark] .colab-df-convert:hover {\n",
              "      background-color: #434B5C;\n",
              "      box-shadow: 0px 1px 3px 1px rgba(0, 0, 0, 0.15);\n",
              "      filter: drop-shadow(0px 1px 2px rgba(0, 0, 0, 0.3));\n",
              "      fill: #FFFFFF;\n",
              "    }\n",
              "  </style>\n",
              "\n",
              "      <script>\n",
              "        const buttonEl =\n",
              "          document.querySelector('#df-ca87738a-b01e-4c9a-b8ed-37b28fa2dc1d button.colab-df-convert');\n",
              "        buttonEl.style.display =\n",
              "          google.colab.kernel.accessAllowed ? 'block' : 'none';\n",
              "\n",
              "        async function convertToInteractive(key) {\n",
              "          const element = document.querySelector('#df-ca87738a-b01e-4c9a-b8ed-37b28fa2dc1d');\n",
              "          const dataTable =\n",
              "            await google.colab.kernel.invokeFunction('convertToInteractive',\n",
              "                                                     [key], {});\n",
              "          if (!dataTable) return;\n",
              "\n",
              "          const docLinkHtml = 'Like what you see? Visit the ' +\n",
              "            '<a target=\"_blank\" href=https://colab.research.google.com/notebooks/data_table.ipynb>data table notebook</a>'\n",
              "            + ' to learn more about interactive tables.';\n",
              "          element.innerHTML = '';\n",
              "          dataTable['output_type'] = 'display_data';\n",
              "          await google.colab.output.renderOutput(dataTable, element);\n",
              "          const docLink = document.createElement('div');\n",
              "          docLink.innerHTML = docLinkHtml;\n",
              "          element.appendChild(docLink);\n",
              "        }\n",
              "      </script>\n",
              "    </div>\n",
              "  </div>\n",
              "  "
            ]
          },
          "metadata": {},
          "execution_count": 55
        }
      ]
    },
    {
      "cell_type": "code",
      "source": [
        "#there is only one row in dataframe where category is 1.9 which doesnot suite with other values of Category column and by checking the records which contain this value\n",
        "#its obivious that most of the value is Nan so we can drop this record where Category is 1.9"
      ],
      "metadata": {
        "id": "pqj0Vej2OZuJ"
      },
      "execution_count": null,
      "outputs": []
    },
    {
      "cell_type": "code",
      "source": [
        "playstore_apps.drop(\"Life Made WI-Fi Touchscreen Photo Frame\",inplace=True)"
      ],
      "metadata": {
        "id": "FGBPepv3PA-c"
      },
      "execution_count": 56,
      "outputs": []
    },
    {
      "cell_type": "code",
      "source": [
        "print(playstore_apps.Category.nunique())\n",
        "print(playstore_apps.Category.unique())"
      ],
      "metadata": {
        "colab": {
          "base_uri": "https://localhost:8080/"
        },
        "id": "swRp1zRQP1Xq",
        "outputId": "e7c715ba-bd5e-474f-e042-7302014d2efe"
      },
      "execution_count": 57,
      "outputs": [
        {
          "output_type": "stream",
          "name": "stdout",
          "text": [
            "33\n",
            "['ART_AND_DESIGN' 'AUTO_AND_VEHICLES' 'BEAUTY' 'BOOKS_AND_REFERENCE'\n",
            " 'BUSINESS' 'COMICS' 'COMMUNICATION' 'DATING' 'EDUCATION' 'ENTERTAINMENT'\n",
            " 'EVENTS' 'FINANCE' 'FOOD_AND_DRINK' 'HEALTH_AND_FITNESS' 'HOUSE_AND_HOME'\n",
            " 'LIBRARIES_AND_DEMO' 'LIFESTYLE' 'GAME' 'FAMILY' 'MEDICAL' 'SOCIAL'\n",
            " 'SHOPPING' 'PHOTOGRAPHY' 'SPORTS' 'TRAVEL_AND_LOCAL' 'TOOLS'\n",
            " 'PERSONALIZATION' 'PRODUCTIVITY' 'PARENTING' 'WEATHER' 'VIDEO_PLAYERS'\n",
            " 'NEWS_AND_MAGAZINES' 'MAPS_AND_NAVIGATION']\n"
          ]
        }
      ]
    },
    {
      "cell_type": "code",
      "source": [
        "playstore_apps.isna().sum()"
      ],
      "metadata": {
        "colab": {
          "base_uri": "https://localhost:8080/"
        },
        "id": "4H_AcujKt0Se",
        "outputId": "8a037a62-8325-4821-9449-343facf5a5b1"
      },
      "execution_count": 58,
      "outputs": [
        {
          "output_type": "execute_result",
          "data": {
            "text/plain": [
              "Category             0\n",
              "Rating            1443\n",
              "Reviews              0\n",
              "Size                 0\n",
              "Installs             0\n",
              "Type                 1\n",
              "Price                0\n",
              "Content_Rating       0\n",
              "Genres               0\n",
              "Last_Updated         0\n",
              "Current_Ver          8\n",
              "Android_Ver          2\n",
              "dtype: int64"
            ]
          },
          "metadata": {},
          "execution_count": 58
        }
      ]
    },
    {
      "cell_type": "markdown",
      "source": [
        "column:Rating"
      ],
      "metadata": {
        "id": "-eMyqOsVQF12"
      }
    },
    {
      "cell_type": "code",
      "source": [
        "print(playstore_apps.Rating.nunique())\n",
        "print(playstore_apps.Rating.unique())"
      ],
      "metadata": {
        "colab": {
          "base_uri": "https://localhost:8080/"
        },
        "id": "NgIJUFlBQK2F",
        "outputId": "4371681f-b544-4668-9883-18f14fdd20c2"
      },
      "execution_count": 24,
      "outputs": [
        {
          "output_type": "stream",
          "name": "stdout",
          "text": [
            "39\n",
            "[4.1 3.9 4.7 4.5 4.3 4.4 3.8 4.2 4.6 3.2 4.  nan 4.8 4.9 3.6 3.7 3.3 3.4\n",
            " 3.5 3.1 5.  2.6 3.  2.5 1.  1.9 2.9 2.8 2.3 2.2 1.7 2.  1.8 2.7 2.4 1.6\n",
            " 2.1 1.4 1.5 1.2]\n"
          ]
        }
      ]
    },
    {
      "cell_type": "code",
      "source": [
        "#replacing NaN values with 0"
      ],
      "metadata": {
        "id": "f3s9hD_4QfgU"
      },
      "execution_count": null,
      "outputs": []
    },
    {
      "cell_type": "code",
      "source": [
        "playstore_apps[\"Rating\"].fillna(0,inplace=True)"
      ],
      "metadata": {
        "id": "gSIUtKHXnnq0"
      },
      "execution_count": 59,
      "outputs": []
    },
    {
      "cell_type": "code",
      "source": [
        "print(playstore_apps.Rating.nunique())\n",
        "print(playstore_apps.Rating.unique())"
      ],
      "metadata": {
        "colab": {
          "base_uri": "https://localhost:8080/"
        },
        "id": "9uLj9XR5oUTe",
        "outputId": "1f0d2bf0-d2cd-4491-96f6-965bd3b9e3da"
      },
      "execution_count": 26,
      "outputs": [
        {
          "output_type": "stream",
          "name": "stdout",
          "text": [
            "40\n",
            "[4.1 3.9 4.7 4.5 4.3 4.4 3.8 4.2 4.6 3.2 4.  0.  4.8 4.9 3.6 3.7 3.3 3.4\n",
            " 3.5 3.1 5.  2.6 3.  2.5 1.  1.9 2.9 2.8 2.3 2.2 1.7 2.  1.8 2.7 2.4 1.6\n",
            " 2.1 1.4 1.5 1.2]\n"
          ]
        }
      ]
    },
    {
      "cell_type": "code",
      "source": [
        "playstore_apps.isna().sum()"
      ],
      "metadata": {
        "colab": {
          "base_uri": "https://localhost:8080/"
        },
        "id": "qNes5tEbuAWa",
        "outputId": "ac97ac5b-5644-4a17-9d28-e89546f5f7fb"
      },
      "execution_count": 27,
      "outputs": [
        {
          "output_type": "execute_result",
          "data": {
            "text/plain": [
              "Category          0\n",
              "Rating            0\n",
              "Reviews           0\n",
              "Size              0\n",
              "Installs          0\n",
              "Type              1\n",
              "Price             0\n",
              "Content_Rating    0\n",
              "Genres            0\n",
              "Last_Updated      0\n",
              "Current_Ver       8\n",
              "Android_Ver       2\n",
              "dtype: int64"
            ]
          },
          "metadata": {},
          "execution_count": 27
        }
      ]
    },
    {
      "cell_type": "markdown",
      "source": [
        "column:Reviews"
      ],
      "metadata": {
        "id": "yAWWX5_erSkS"
      }
    },
    {
      "cell_type": "code",
      "source": [
        "print(playstore_apps.Reviews.nunique())\n",
        "print(playstore_apps.Reviews.unique())"
      ],
      "metadata": {
        "colab": {
          "base_uri": "https://localhost:8080/"
        },
        "id": "SuMtMv-wrUB5",
        "outputId": "974a984c-07f9-493f-8cbc-39bffc06b7ff"
      },
      "execution_count": 28,
      "outputs": [
        {
          "output_type": "stream",
          "name": "stdout",
          "text": [
            "5665\n",
            "[1.59000e+02 9.67000e+02 8.75100e+04 ... 6.03000e+02 1.19500e+03\n",
            " 3.98307e+05]\n"
          ]
        }
      ]
    },
    {
      "cell_type": "code",
      "source": [
        "playstore_apps.Reviews.unique().tolist()"
      ],
      "metadata": {
        "colab": {
          "base_uri": "https://localhost:8080/"
        },
        "id": "vVX_2_eqsIaJ",
        "outputId": "2a6c155e-655d-4d64-a5f4-98e37b15916a"
      },
      "execution_count": null,
      "outputs": [
        {
          "output_type": "execute_result",
          "data": {
            "text/plain": [
              "[159.0,\n",
              " 967.0,\n",
              " 87510.0,\n",
              " 215644.0,\n",
              " 167.0,\n",
              " 178.0,\n",
              " 36815.0,\n",
              " 13791.0,\n",
              " 121.0,\n",
              " 13880.0,\n",
              " 8788.0,\n",
              " 44829.0,\n",
              " 4326.0,\n",
              " 1518.0,\n",
              " 55.0,\n",
              " 3632.0,\n",
              " 27.0,\n",
              " 194216.0,\n",
              " 224399.0,\n",
              " 450.0,\n",
              " 654.0,\n",
              " 7699.0,\n",
              " 61.0,\n",
              " 118.0,\n",
              " 192.0,\n",
              " 20260.0,\n",
              " 203.0,\n",
              " 136.0,\n",
              " 223.0,\n",
              " 1120.0,\n",
              " 227.0,\n",
              " 5035.0,\n",
              " 1015.0,\n",
              " 353.0,\n",
              " 564.0,\n",
              " 8145.0,\n",
              " 36639.0,\n",
              " 158.0,\n",
              " 591.0,\n",
              " 117.0,\n",
              " 176.0,\n",
              " 295221.0,\n",
              " 2206.0,\n",
              " 26.0,\n",
              " 174531.0,\n",
              " 1070.0,\n",
              " 85.0,\n",
              " 845.0,\n",
              " 367.0,\n",
              " 1598.0,\n",
              " 284.0,\n",
              " 17057.0,\n",
              " 129.0,\n",
              " 542.0,\n",
              " 10479.0,\n",
              " 805.0,\n",
              " 1403.0,\n",
              " 3971.0,\n",
              " 534.0,\n",
              " 7774.0,\n",
              " 38846.0,\n",
              " 2431.0,\n",
              " 6090.0,\n",
              " 295.0,\n",
              " 190.0,\n",
              " 40211.0,\n",
              " 356.0,\n",
              " 52530.0,\n",
              " 116986.0,\n",
              " 1379.0,\n",
              " 271920.0,\n",
              " 736.0,\n",
              " 7021.0,\n",
              " 197.0,\n",
              " 737.0,\n",
              " 3574.0,\n",
              " 994.0,\n",
              " 197136.0,\n",
              " 142.0,\n",
              " 15168.0,\n",
              " 2155.0,\n",
              " 138.0,\n",
              " 5414.0,\n",
              " 21777.0,\n",
              " 348.0,\n",
              " 250.0,\n",
              " 13372.0,\n",
              " 7880.0,\n",
              " 3617.0,\n",
              " 4806.0,\n",
              " 65786.0,\n",
              " 31433.0,\n",
              " 5097.0,\n",
              " 1754.0,\n",
              " 2680.0,\n",
              " 1288.0,\n",
              " 18900.0,\n",
              " 49790.0,\n",
              " 1150.0,\n",
              " 1739.0,\n",
              " 32090.0,\n",
              " 2225.0,\n",
              " 4369.0,\n",
              " 8572.0,\n",
              " 964.0,\n",
              " 42050.0,\n",
              " 104.0,\n",
              " 17934.0,\n",
              " 601.0,\n",
              " 36.0,\n",
              " 187.0,\n",
              " 182.0,\n",
              " 30.0,\n",
              " 134.0,\n",
              " 74.0,\n",
              " 113715.0,\n",
              " 3595.0,\n",
              " 9315.0,\n",
              " 75.0,\n",
              " 38.0,\n",
              " 26834.0,\n",
              " 119.0,\n",
              " 2277.0,\n",
              " 2280.0,\n",
              " 184.0,\n",
              " 9.0,\n",
              " 77.0,\n",
              " 35.0,\n",
              " 364.0,\n",
              " 18.0,\n",
              " 473.0,\n",
              " 66.0,\n",
              " 3871.0,\n",
              " 257.0,\n",
              " 62.0,\n",
              " 2914724.0,\n",
              " 1857.0,\n",
              " 4478.0,\n",
              " 577550.0,\n",
              " 814080.0,\n",
              " 246315.0,\n",
              " 454060.0,\n",
              " 155446.0,\n",
              " 418.0,\n",
              " 22486.0,\n",
              " 203130.0,\n",
              " 1435.0,\n",
              " 116507.0,\n",
              " 1433233.0,\n",
              " 90468.0,\n",
              " 860.0,\n",
              " 363934.0,\n",
              " 87873.0,\n",
              " 17506.0,\n",
              " 1862.0,\n",
              " 2084.0,\n",
              " 47303.0,\n",
              " 19080.0,\n",
              " 161.0,\n",
              " 85842.0,\n",
              " 7831.0,\n",
              " 91615.0,\n",
              " 4620.0,\n",
              " 21336.0,\n",
              " 26875.0,\n",
              " 1778.0,\n",
              " 2709.0,\n",
              " 64513.0,\n",
              " 8342.0,\n",
              " 527.0,\n",
              " 1322.0,\n",
              " 1680.0,\n",
              " 2739.0,\n",
              " 1065.0,\n",
              " 233757.0,\n",
              " 2.0,\n",
              " 51269.0,\n",
              " 30105.0,\n",
              " 156.0,\n",
              " 114.0,\n",
              " 341157.0,\n",
              " 16129.0,\n",
              " 674730.0,\n",
              " 1254730.0,\n",
              " 85185.0,\n",
              " 32584.0,\n",
              " 217730.0,\n",
              " 70991.0,\n",
              " 1002861.0,\n",
              " 16589.0,\n",
              " 148945.0,\n",
              " 4458.0,\n",
              " 62272.0,\n",
              " 8941.0,\n",
              " 46353.0,\n",
              " 1279184.0,\n",
              " 88073.0,\n",
              " 67000.0,\n",
              " 159872.0,\n",
              " 30847.0,\n",
              " 188841.0,\n",
              " 11622.0,\n",
              " 95912.0,\n",
              " 4034.0,\n",
              " 45964.0,\n",
              " 14955.0,\n",
              " 6903.0,\n",
              " 31614.0,\n",
              " 23055.0,\n",
              " 19023.0,\n",
              " 207372.0,\n",
              " 1225.0,\n",
              " 380837.0,\n",
              " 10600.0,\n",
              " 74359.0,\n",
              " 822.0,\n",
              " 80805.0,\n",
              " 2287.0,\n",
              " 4162.0,\n",
              " 14760.0,\n",
              " 23243.0,\n",
              " 8978.0,\n",
              " 42492.0,\n",
              " 286897.0,\n",
              " 103755.0,\n",
              " 46505.0,\n",
              " 11442.0,\n",
              " 10295.0,\n",
              " 296.0,\n",
              " 29313.0,\n",
              " 51507.0,\n",
              " 1802.0,\n",
              " 1383.0,\n",
              " 23175.0,\n",
              " 5868.0,\n",
              " 2111.0,\n",
              " 5448.0,\n",
              " 4159.0,\n",
              " 20815.0,\n",
              " 78662.0,\n",
              " 7149.0,\n",
              " 3079.0,\n",
              " 5800.0,\n",
              " 6989.0,\n",
              " 16422.0,\n",
              " 108741.0,\n",
              " 624.0,\n",
              " 1661.0,\n",
              " 97702.0,\n",
              " 308.0,\n",
              " 5211.0,\n",
              " 1058.0,\n",
              " 78172.0,\n",
              " 80804.0,\n",
              " 1002859.0,\n",
              " 51510.0,\n",
              " 413.0,\n",
              " 1013635.0,\n",
              " 24005.0,\n",
              " 57106.0,\n",
              " 2249.0,\n",
              " 516.0,\n",
              " 834.0,\n",
              " 1010.0,\n",
              " 238970.0,\n",
              " 302.0,\n",
              " 438.0,\n",
              " 73.0,\n",
              " 39.0,\n",
              " 144.0,\n",
              " 2181.0,\n",
              " 93965.0,\n",
              " 1446.0,\n",
              " 12088.0,\n",
              " 314.0,\n",
              " 25671.0,\n",
              " 15194.0,\n",
              " 22551.0,\n",
              " 29839.0,\n",
              " 279.0,\n",
              " 564387.0,\n",
              " 1330.0,\n",
              " 1677.0,\n",
              " 757.0,\n",
              " 115.0,\n",
              " 125.0,\n",
              " 9952.0,\n",
              " 18814.0,\n",
              " 21.0,\n",
              " 15.0,\n",
              " 51981.0,\n",
              " 3596.0,\n",
              " 1006.0,\n",
              " 5968.0,\n",
              " 4895.0,\n",
              " 56642847.0,\n",
              " 69119316.0,\n",
              " 125257.0,\n",
              " 9642995.0,\n",
              " 1429035.0,\n",
              " 4604324.0,\n",
              " 3419249.0,\n",
              " 11334799.0,\n",
              " 158679.0,\n",
              " 3075028.0,\n",
              " 4187998.0,\n",
              " 659395.0,\n",
              " 4785892.0,\n",
              " 66602.0,\n",
              " 30209.0,\n",
              " 36901.0,\n",
              " 5149854.0,\n",
              " 192948.0,\n",
              " 99559.0,\n",
              " 437674.0,\n",
              " 13698.0,\n",
              " 2473509.0,\n",
              " 20769.0,\n",
              " 36880.0,\n",
              " 171031.0,\n",
              " 63543.0,\n",
              " 45487.0,\n",
              " 615381.0,\n",
              " 2451083.0,\n",
              " 33053.0,\n",
              " 5387333.0,\n",
              " 3648120.0,\n",
              " 136662.0,\n",
              " 42370.0,\n",
              " 781810.0,\n",
              " 3128250.0,\n",
              " 2083237.0,\n",
              " 541389.0,\n",
              " 46702.0,\n",
              " 2939.0,\n",
              " 13761.0,\n",
              " 258556.0,\n",
              " 40751.0,\n",
              " 17712922.0,\n",
              " 25021.0,\n",
              " 27187.0,\n",
              " 56646578.0,\n",
              " 4785988.0,\n",
              " 122498.0,\n",
              " 11334973.0,\n",
              " 3419433.0,\n",
              " 132014.0,\n",
              " 83239.0,\n",
              " 594728.0,\n",
              " 5387446.0,\n",
              " 10484169.0,\n",
              " 3128509.0,\n",
              " 2451093.0,\n",
              " 2876500.0,\n",
              " 28238.0,\n",
              " 335646.0,\n",
              " 350154.0,\n",
              " 349384.0,\n",
              " 346982.0,\n",
              " 244863.0,\n",
              " 10790289.0,\n",
              " 330761.0,\n",
              " 37320.0,\n",
              " 12842860.0,\n",
              " 2546527.0,\n",
              " 36893.0,\n",
              " 15880.0,\n",
              " 346980.0,\n",
              " 9643041.0,\n",
              " 3075118.0,\n",
              " 2264916.0,\n",
              " 2473693.0,\n",
              " 42925.0,\n",
              " 5150471.0,\n",
              " 2511130.0,\n",
              " 3648480.0,\n",
              " 17714850.0,\n",
              " 13100.0,\n",
              " 27156.0,\n",
              " 55098.0,\n",
              " 1133501.0,\n",
              " 12578.0,\n",
              " 10965.0,\n",
              " 18247.0,\n",
              " 190613.0,\n",
              " 125232.0,\n",
              " 72065.0,\n",
              " 27540.0,\n",
              " 104990.0,\n",
              " 177703.0,\n",
              " 17529.0,\n",
              " 177263.0,\n",
              " 237468.0,\n",
              " 32254.0,\n",
              " 483565.0,\n",
              " 552441.0,\n",
              " 60308.0,\n",
              " 457283.0,\n",
              " 93825.0,\n",
              " 32283.0,\n",
              " 15287.0,\n",
              " 205739.0,\n",
              " 14873.0,\n",
              " 7820209.0,\n",
              " 9498.0,\n",
              " 4604483.0,\n",
              " 4188142.0,\n",
              " 88427.0,\n",
              " 305218.0,\n",
              " 183374.0,\n",
              " 20901.0,\n",
              " 122595.0,\n",
              " 124346.0,\n",
              " 837842.0,\n",
              " 255.0,\n",
              " 41420.0,\n",
              " 44706.0,\n",
              " 23707.0,\n",
              " 3419513.0,\n",
              " 11335255.0,\n",
              " 29208.0,\n",
              " 191032.0,\n",
              " 1545.0,\n",
              " 57.0,\n",
              " 0.0,\n",
              " 4.0,\n",
              " 516801.0,\n",
              " 285726.0,\n",
              " 76646.0,\n",
              " 2556.0,\n",
              " 7779.0,\n",
              " 61637.0,\n",
              " 12632.0,\n",
              " 313724.0,\n",
              " 48845.0,\n",
              " 305708.0,\n",
              " 31320.0,\n",
              " 172460.0,\n",
              " 4195.0,\n",
              " 11633.0,\n",
              " 10212.0,\n",
              " 37053.0,\n",
              " 667.0,\n",
              " 13202.0,\n",
              " 28671.0,\n",
              " 1157.0,\n",
              " 212626.0,\n",
              " 222888.0,\n",
              " 2067.0,\n",
              " 1643.0,\n",
              " 105.0,\n",
              " 3414.0,\n",
              " 42194.0,\n",
              " 11806.0,\n",
              " 1999.0,\n",
              " 22544.0,\n",
              " 97684.0,\n",
              " 2519.0,\n",
              " 1146.0,\n",
              " 13046.0,\n",
              " 17268.0,\n",
              " 8722.0,\n",
              " 953.0,\n",
              " 2593.0,\n",
              " 5377.0,\n",
              " 852.0,\n",
              " 212.0,\n",
              " 1972.0,\n",
              " 35206.0,\n",
              " 5164.0,\n",
              " 1939.0,\n",
              " 277.0,\n",
              " 80.0,\n",
              " 825.0,\n",
              " 40035.0,\n",
              " 1093.0,\n",
              " 135418.0,\n",
              " 1601.0,\n",
              " 2212.0,\n",
              " 57081.0,\n",
              " 241.0,\n",
              " 63986.0,\n",
              " 7888.0,\n",
              " 535.0,\n",
              " 5084.0,\n",
              " 2430.0,\n",
              " 837.0,\n",
              " 738.0,\n",
              " 4631.0,\n",
              " 4953.0,\n",
              " 1439.0,\n",
              " 1645.0,\n",
              " 13204.0,\n",
              " 853.0,\n",
              " 337.0,\n",
              " 13049.0,\n",
              " 51698.0,\n",
              " 923.0,\n",
              " 1546.0,\n",
              " 149.0,\n",
              " 198.0,\n",
              " 135420.0,\n",
              " 22545.0,\n",
              " 8723.0,\n",
              " 23170.0,\n",
              " 13890.0,\n",
              " 57083.0,\n",
              " 537.0,\n",
              " 13440.0,\n",
              " 143.0,\n",
              " 1059.0,\n",
              " 894.0,\n",
              " 6191.0,\n",
              " 15081.0,\n",
              " 218.0,\n",
              " 35205.0,\n",
              " 243950.0,\n",
              " 236.0,\n",
              " 5152.0,\n",
              " 1576.0,\n",
              " 6701.0,\n",
              " 40039.0,\n",
              " 742.0,\n",
              " 2506.0,\n",
              " 182986.0,\n",
              " 8661.0,\n",
              " 8.0,\n",
              " 59.0,\n",
              " 28.0,\n",
              " 185.0,\n",
              " 6.0,\n",
              " 110.0,\n",
              " 3.0,\n",
              " 5.0,\n",
              " 84.0,\n",
              " 20.0,\n",
              " 776.0,\n",
              " 1.0,\n",
              " 14.0,\n",
              " 24.0,\n",
              " 23.0,\n",
              " 11.0,\n",
              " 101.0,\n",
              " 120.0,\n",
              " 4954.0,\n",
              " 954.0,\n",
              " 2560.0,\n",
              " 42197.0,\n",
              " 5168.0,\n",
              " 12633.0,\n",
              " 41605.0,\n",
              " 2433.0,\n",
              " 791.0,\n",
              " 5323.0,\n",
              " 478.0,\n",
              " 69.0,\n",
              " 53.0,\n",
              " 97699.0,\n",
              " 6289924.0,\n",
              " 181893.0,\n",
              " 2544.0,\n",
              " 85375.0,\n",
              " 314299.0,\n",
              " 9770.0,\n",
              " 32346.0,\n",
              " 4075.0,\n",
              " 10611.0,\n",
              " 9321.0,\n",
              " 56065.0,\n",
              " 14286.0,\n",
              " 133136.0,\n",
              " 2469.0,\n",
              " 36212.0,\n",
              " 390.0,\n",
              " 1090.0,\n",
              " 266948.0,\n",
              " 342918.0,\n",
              " 748.0,\n",
              " 172640.0,\n",
              " 1619.0,\n",
              " 3168.0,\n",
              " 29855.0,\n",
              " 6736.0,\n",
              " 7005.0,\n",
              " 889.0,\n",
              " 5741.0,\n",
              " 27572.0,\n",
              " 10852.0,\n",
              " 9888.0,\n",
              " 1929.0,\n",
              " 1516.0,\n",
              " 215301.0,\n",
              " 423.0,\n",
              " 254519.0,\n",
              " 1107903.0,\n",
              " 211856.0,\n",
              " 99020.0,\n",
              " 90481.0,\n",
              " 32381.0,\n",
              " 248912.0,\n",
              " 248555.0,\n",
              " 272145.0,\n",
              " 56897.0,\n",
              " 8599.0,\n",
              " 41185.0,\n",
              " 29980.0,\n",
              " 304.0,\n",
              " 358.0,\n",
              " 11904.0,\n",
              " 22251.0,\n",
              " 22384.0,\n",
              " 73404.0,\n",
              " 12733.0,\n",
              " 25183.0,\n",
              " 52743.0,\n",
              " 61749.0,\n",
              " 55704.0,\n",
              " 19277.0,\n",
              " 13612.0,\n",
              " 37862.0,\n",
              " 18372.0,\n",
              " 656.0,\n",
              " 240.0,\n",
              " 275.0,\n",
              " 3692.0,\n",
              " 2363.0,\n",
              " 1769.0,\n",
              " 430.0,\n",
              " 756.0,\n",
              " 3963.0,\n",
              " 316.0,\n",
              " 642.0,\n",
              " 6290507.0,\n",
              " 32380.0,\n",
              " 172505.0,\n",
              " 69493.0,\n",
              " 1107884.0,\n",
              " 7973.0,\n",
              " 266935.0,\n",
              " 5695.0,\n",
              " 142632.0,\n",
              " 55256.0,\n",
              " 172508.0,\n",
              " 54798.0,\n",
              " 4815.0,\n",
              " 75112.0,\n",
              " 33646.0,\n",
              " 314300.0,\n",
              " 206527.0,\n",
              " 9348.0,\n",
              " 3816.0,\n",
              " 47847.0,\n",
              " 16195.0,\n",
              " 206.0,\n",
              " 28392.0,\n",
              " 3241.0,\n",
              " 835.0,\n",
              " 2525.0,\n",
              " 828.0,\n",
              " 200058.0,\n",
              " 1239.0,\n",
              " 702.0,\n",
              " 108613.0,\n",
              " 69498.0,\n",
              " 148550.0,\n",
              " 3847.0,\n",
              " 84309.0,\n",
              " 1107948.0,\n",
              " 14206.0,\n",
              " 206532.0,\n",
              " 14700.0,\n",
              " 42828.0,\n",
              " 40209.0,\n",
              " 1405.0,\n",
              " 148549.0,\n",
              " 84311.0,\n",
              " 256079.0,\n",
              " 2078.0,\n",
              " 16103.0,\n",
              " 31085.0,\n",
              " 3528.0,\n",
              " 5456208.0,\n",
              " 11656.0,\n",
              " 28948.0,\n",
              " 296771.0,\n",
              " 470089.0,\n",
              " 10939.0,\n",
              " 98509.0,\n",
              " 5241.0,\n",
              " 22508.0,\n",
              " 10291.0,\n",
              " 7165362.0,\n",
              " 4885646.0,\n",
              " 141980.0,\n",
              " 6979.0,\n",
              " 46618.0,\n",
              " 103078.0,\n",
              " 17682.0,\n",
              " 37000.0,\n",
              " 175528.0,\n",
              " 1828284.0,\n",
              " 34923.0,\n",
              " 684116.0,\n",
              " 46916.0,\n",
              " 407698.0,\n",
              " 702975.0,\n",
              " 32458.0,\n",
              " 235496.0,\n",
              " 11661.0,\n",
              " 653008.0,\n",
              " 23063.0,\n",
              " 87384.0,\n",
              " 411683.0,\n",
              " 8918.0,\n",
              " 501498.0,\n",
              " 2133296.0,\n",
              " 29690.0,\n",
              " 130549.0,\n",
              " 613059.0,\n",
              " 1633682.0,\n",
              " 2646.0,\n",
              " 21867.0,\n",
              " 32732.0,\n",
              " 243747.0,\n",
              " 2639.0,\n",
              " 1511.0,\n",
              " 44550.0,\n",
              " 501497.0,\n",
              " 7813.0,\n",
              " 1033.0,\n",
              " 2442.0,\n",
              " 15254.0,\n",
              " 155234.0,\n",
              " 310066.0,\n",
              " 12216.0,\n",
              " 388089.0,\n",
              " 92058.0,\n",
              " 88185.0,\n",
              " 493.0,\n",
              " 33387.0,\n",
              " 123279.0,\n",
              " 27424.0,\n",
              " 60841.0,\n",
              " 29706.0,\n",
              " 288150.0,\n",
              " 14807.0,\n",
              " 319692.0,\n",
              " 61201.0,\n",
              " 22998.0,\n",
              " 12398.0,\n",
              " 35928.0,\n",
              " 64448.0,\n",
              " 22378.0,\n",
              " 5456599.0,\n",
              " 296829.0,\n",
              " 310095.0,\n",
              " 319691.0,\n",
              " 16372.0,\n",
              " 58028.0,\n",
              " 736864.0,\n",
              " 1968.0,\n",
              " 35279.0,\n",
              " 35931.0,\n",
              " 17247.0,\n",
              " 87723.0,\n",
              " 18523.0,\n",
              " 182103.0,\n",
              " 197774.0,\n",
              " 8674.0,\n",
              " 5456708.0,\n",
              " 58082.0,\n",
              " 407719.0,\n",
              " 115033.0,\n",
              " 22997.0,\n",
              " 801.0,\n",
              " 8968.0,\n",
              " 303.0,\n",
              " 732.0,\n",
              " 1856.0,\n",
              " 50725.0,\n",
              " 1575.0,\n",
              " 6238.0,\n",
              " 9941.0,\n",
              " 23666.0,\n",
              " 67554.0,\n",
              " 38769.0,\n",
              " 160164.0,\n",
              " 3771.0,\n",
              " 256664.0,\n",
              " 787177.0,\n",
              " 3782.0,\n",
              " 40113.0,\n",
              " 7074.0,\n",
              " 2153.0,\n",
              " 26089.0,\n",
              " 20611.0,\n",
              " 811.0,\n",
              " 15558.0,\n",
              " 573.0,\n",
              " 37.0,\n",
              " 8232.0,\n",
              " 3089.0,\n",
              " 3874.0,\n",
              " 464.0,\n",
              " 731.0,\n",
              " 8800.0,\n",
              " 99.0,\n",
              " 456.0,\n",
              " 3200.0,\n",
              " 5839.0,\n",
              " 663.0,\n",
              " 16.0,\n",
              " 13.0,\n",
              " 46.0,\n",
              " 1953.0,\n",
              " 12.0,\n",
              " 4298.0,\n",
              " 49.0,\n",
              " 100.0,\n",
              " 399.0,\n",
              " 7.0,\n",
              " 124424.0,\n",
              " 39041.0,\n",
              " 52306.0,\n",
              " 36718.0,\n",
              " 42644.0,\n",
              " 278082.0,\n",
              " 6076.0,\n",
              " 112656.0,\n",
              " 335738.0,\n",
              " 31906.0,\n",
              " 20672.0,\n",
              " 957973.0,\n",
              " 130582.0,\n",
              " 31218.0,\n",
              " 167168.0,\n",
              " 34428.0,\n",
              " 15247.0,\n",
              " 48445.0,\n",
              " 35518.0,\n",
              " 12185.0,\n",
              " 36746.0,\n",
              " 21996.0,\n",
              " 138371.0,\n",
              " 12073.0,\n",
              " 111632.0,\n",
              " 250706.0,\n",
              " 706301.0,\n",
              " 64959.0,\n",
              " 659741.0,\n",
              " 510392.0,\n",
              " 7215.0,\n",
              " 25508.0,\n",
              " 60449.0,\n",
              " 381788.0,\n",
              " 10697.0,\n",
              " 347838.0,\n",
              " 31804.0,\n",
              " 3856.0,\n",
              " 199684.0,\n",
              " 44545.0,\n",
              " 1336246.0,\n",
              " 57493.0,\n",
              " 283.0,\n",
              " 12304.0,\n",
              " 8188.0,\n",
              " 11919.0,\n",
              " 45957.0,\n",
              " 126431.0,\n",
              " 21570.0,\n",
              " 134564.0,\n",
              " 16961.0,\n",
              " 111254.0,\n",
              " 7731.0,\n",
              " 5928.0,\n",
              " 15703.0,\n",
              " 6148.0,\n",
              " 861.0,\n",
              " 8662.0,\n",
              " 23130.0,\n",
              " 69973.0,\n",
              " 1311.0,\n",
              " 26587.0,\n",
              " 2417.0,\n",
              " 706302.0,\n",
              " 1054.0,\n",
              " 25166.0,\n",
              " 129304.0,\n",
              " 19870.0,\n",
              " 161440.0,\n",
              " 7514.0,\n",
              " 46106.0,\n",
              " 15141.0,\n",
              " 714.0,\n",
              " 42410.0,\n",
              " 260547.0,\n",
              " 4344.0,\n",
              " 22808.0,\n",
              " 42809.0,\n",
              " 16808.0,\n",
              " 157505.0,\n",
              " 24647.0,\n",
              " 1922.0,\n",
              " 3334.0,\n",
              " 10658.0,\n",
              " 78361.0,\n",
              " 2594.0,\n",
              " 13868.0,\n",
              " 135952.0,\n",
              " 11066.0,\n",
              " 45962.0,\n",
              " 34861.0,\n",
              " 37580.0,\n",
              " 281485.0,\n",
              " 685.0,\n",
              " 126447.0,\n",
              " 3780.0,\n",
              " 15192.0,\n",
              " 5950.0,\n",
              " 15993.0,\n",
              " 5905.0,\n",
              " 659760.0,\n",
              " 14627.0,\n",
              " 1098.0,\n",
              " 2898.0,\n",
              " 70782.0,\n",
              " 11264.0,\n",
              " 100997.0,\n",
              " 347874.0,\n",
              " 3290.0,\n",
              " 341090.0,\n",
              " 87951.0,\n",
              " 250719.0,\n",
              " 510401.0,\n",
              " 24729.0,\n",
              " 78306.0,\n",
              " 43313.0,\n",
              " 1374549.0,\n",
              " 208463.0,\n",
              " 6998.0,\n",
              " 145323.0,\n",
              " 95.0,\n",
              " 64784.0,\n",
              " 32997.0,\n",
              " 82.0,\n",
              " 2707.0,\n",
              " 129737.0,\n",
              " 611136.0,\n",
              " 6118.0,\n",
              " 2473.0,\n",
              " 109784.0,\n",
              " 3320.0,\n",
              " 68103.0,\n",
              " 8412.0,\n",
              " 10741.0,\n",
              " 3803.0,\n",
              " 155944.0,\n",
              " 10159.0,\n",
              " 28008.0,\n",
              " 43614.0,\n",
              " 455377.0,\n",
              " 1398.0,\n",
              " 1032935.0,\n",
              " 32405.0,\n",
              " 151080.0,\n",
              " 22513.0,\n",
              " 90042.0,\n",
              " 58316.0,\n",
              " 8509.0,\n",
              " 19314.0,\n",
              " 21314.0,\n",
              " 30224.0,\n",
              " 454.0,\n",
              " 14952.0,\n",
              " 1250.0,\n",
              " 1726.0,\n",
              " 14065.0,\n",
              " 556.0,\n",
              " 4925.0,\n",
              " 6507.0,\n",
              " 11707.0,\n",
              " 1077.0,\n",
              " 46539.0,\n",
              " 9066.0,\n",
              " 1962.0,\n",
              " 22071.0,\n",
              " 196.0,\n",
              " 278.0,\n",
              " 61881.0,\n",
              " 2129.0,\n",
              " 1268.0,\n",
              " 91359.0,\n",
              " 22015.0,\n",
              " 131569.0,\n",
              " 31986.0,\n",
              " 22875.0,\n",
              " 17071.0,\n",
              " 90242.0,\n",
              " 483960.0,\n",
              " 511228.0,\n",
              " ...]"
            ]
          },
          "metadata": {},
          "execution_count": 39
        }
      ]
    },
    {
      "cell_type": "code",
      "source": [
        "#all the values in the Reviews column seems to be proper and thereis no null value to treat"
      ],
      "metadata": {
        "id": "jyDt6PFTuJzZ"
      },
      "execution_count": null,
      "outputs": []
    },
    {
      "cell_type": "markdown",
      "source": [
        "column:Installs"
      ],
      "metadata": {
        "id": "Rj-908ZLuWzN"
      }
    },
    {
      "cell_type": "code",
      "source": [
        "print(playstore_apps.Installs.nunique())\n",
        "print(playstore_apps.Installs.unique())"
      ],
      "metadata": {
        "colab": {
          "base_uri": "https://localhost:8080/"
        },
        "id": "NSfVykxHPwcU",
        "outputId": "efa9257e-324b-4c87-9a6e-721df80c48b5"
      },
      "execution_count": 29,
      "outputs": [
        {
          "output_type": "stream",
          "name": "stdout",
          "text": [
            "20\n",
            "[1.e+04 5.e+05 5.e+06 5.e+07 1.e+05 5.e+04 1.e+06 1.e+07 5.e+03 1.e+08\n",
            " 1.e+09 1.e+03 5.e+08 5.e+01 1.e+02 5.e+02 1.e+01 1.e+00 5.e+00 0.e+00]\n"
          ]
        }
      ]
    },
    {
      "cell_type": "markdown",
      "source": [
        "columns:Type  "
      ],
      "metadata": {
        "id": "iq5tmFAmQq4q"
      }
    },
    {
      "cell_type": "code",
      "source": [
        "print(playstore_apps.Type.nunique())\n",
        "print(playstore_apps.Type.unique())"
      ],
      "metadata": {
        "colab": {
          "base_uri": "https://localhost:8080/"
        },
        "id": "f-1DybPBQsPL",
        "outputId": "11c0827f-5098-4772-e2ab-af245ec70e11"
      },
      "execution_count": 30,
      "outputs": [
        {
          "output_type": "stream",
          "name": "stdout",
          "text": [
            "2\n",
            "['Free' 'Paid' nan]\n"
          ]
        }
      ]
    },
    {
      "cell_type": "code",
      "source": [
        "playstore_apps.isna().sum()"
      ],
      "metadata": {
        "colab": {
          "base_uri": "https://localhost:8080/"
        },
        "id": "V4BrL6GfUrxs",
        "outputId": "a900b266-556d-4780-9896-dbd836366472"
      },
      "execution_count": 31,
      "outputs": [
        {
          "output_type": "execute_result",
          "data": {
            "text/plain": [
              "Category          0\n",
              "Rating            0\n",
              "Reviews           0\n",
              "Size              0\n",
              "Installs          0\n",
              "Type              1\n",
              "Price             0\n",
              "Content_Rating    0\n",
              "Genres            0\n",
              "Last_Updated      0\n",
              "Current_Ver       8\n",
              "Android_Ver       2\n",
              "dtype: int64"
            ]
          },
          "metadata": {},
          "execution_count": 31
        }
      ]
    },
    {
      "cell_type": "markdown",
      "source": [
        "column:Price "
      ],
      "metadata": {
        "id": "Rarg-YU9VhrL"
      }
    },
    {
      "cell_type": "code",
      "source": [
        "print(playstore_apps.Price.nunique())\n",
        "print(playstore_apps.Price.unique())"
      ],
      "metadata": {
        "colab": {
          "base_uri": "https://localhost:8080/"
        },
        "id": "DeoHwJ7mVg6Q",
        "outputId": "ae3233e2-07b1-4961-a1aa-7c4280bb95cb"
      },
      "execution_count": 32,
      "outputs": [
        {
          "output_type": "stream",
          "name": "stdout",
          "text": [
            "89\n",
            "[  0.     3.99   6.99   1.49   2.99   7.99   5.99   4.99   3.49   1.99\n",
            "   9.99   7.49   0.99   1.     2.49  10.99   1.5   14.99  15.99  74.99\n",
            "  39.99   3.95  29.99   4.49   1.7    8.99   2.     3.88  25.99 399.99\n",
            "  17.99 400.     3.02   1.76   4.84   4.77   1.61   2.5   19.99   1.59\n",
            "   6.49   1.29   5.    13.99 299.99 379.99  37.99  18.99 389.99  19.9\n",
            "   8.49   1.75  11.99  14.     4.85  46.99   5.49 109.99 154.99   3.08\n",
            "   2.59   4.8    1.96  19.4    3.9    4.59  15.46  10.     3.04  12.99\n",
            "   4.29   2.6    3.28   4.6   28.99   2.95   2.9    1.97  24.99 200.\n",
            "  89.99   2.56  30.99   3.61 394.99   1.26  16.99   1.2    1.04]\n"
          ]
        }
      ]
    },
    {
      "cell_type": "code",
      "source": [
        "#no nan values in Price column and all the values seems to be proper"
      ],
      "metadata": {
        "id": "5CV2DX0LWEdV"
      },
      "execution_count": null,
      "outputs": []
    },
    {
      "cell_type": "markdown",
      "source": [
        "column:Content Rating"
      ],
      "metadata": {
        "id": "0w786n6tWBkW"
      }
    },
    {
      "cell_type": "code",
      "source": [
        "print(playstore_apps[\"Content_Rating\"].nunique())\n",
        "print(playstore_apps[\"Content_Rating\"].unique())"
      ],
      "metadata": {
        "colab": {
          "base_uri": "https://localhost:8080/"
        },
        "id": "5K3Cy5hJWMq7",
        "outputId": "4a775aa6-ad1a-48b0-d970-29a76d8d51be"
      },
      "execution_count": null,
      "outputs": [
        {
          "output_type": "stream",
          "name": "stdout",
          "text": [
            "6\n",
            "['Everyone' 'Teen' 'Everyone 10+' 'Mature 17+' 'Adults only 18+' 'Unrated']\n"
          ]
        }
      ]
    },
    {
      "cell_type": "code",
      "source": [
        "#no nan values in Content Rating and all the values seems to be proper"
      ],
      "metadata": {
        "id": "-4St8W9RWjBs"
      },
      "execution_count": null,
      "outputs": []
    },
    {
      "cell_type": "markdown",
      "source": [
        "column:Genres "
      ],
      "metadata": {
        "id": "RkZPECTUWrRs"
      }
    },
    {
      "cell_type": "code",
      "source": [
        "print(playstore_apps[\"Genres\"].nunique())\n",
        "print(playstore_apps[\"Genres\"].unique())"
      ],
      "metadata": {
        "colab": {
          "base_uri": "https://localhost:8080/"
        },
        "id": "Je5VR4_LWsvq",
        "outputId": "91ff9821-9c43-47b7-a110-f24703bfc9a9"
      },
      "execution_count": 33,
      "outputs": [
        {
          "output_type": "stream",
          "name": "stdout",
          "text": [
            "118\n",
            "['Art & Design' 'Art & Design;Pretend Play' 'Art & Design;Creativity'\n",
            " 'Art & Design;Action & Adventure' 'Auto & Vehicles' 'Beauty'\n",
            " 'Books & Reference' 'Business' 'Comics' 'Comics;Creativity'\n",
            " 'Communication' 'Dating' 'Education;Education' 'Education'\n",
            " 'Education;Creativity' 'Education;Music & Video'\n",
            " 'Education;Action & Adventure' 'Education;Pretend Play'\n",
            " 'Education;Brain Games' 'Entertainment' 'Entertainment;Music & Video'\n",
            " 'Entertainment;Brain Games' 'Entertainment;Creativity' 'Events' 'Finance'\n",
            " 'Food & Drink' 'Health & Fitness' 'House & Home' 'Libraries & Demo'\n",
            " 'Lifestyle' 'Lifestyle;Pretend Play' 'Adventure;Action & Adventure'\n",
            " 'Arcade' 'Casual' 'Card' 'Casual;Pretend Play' 'Action' 'Strategy'\n",
            " 'Puzzle' 'Sports' 'Music' 'Word' 'Racing' 'Casual;Creativity'\n",
            " 'Casual;Action & Adventure' 'Adventure' 'Board' 'Trivia' 'Simulation'\n",
            " 'Role Playing' 'Simulation;Education' 'Action;Action & Adventure'\n",
            " 'Casual;Brain Games' 'Simulation;Action & Adventure'\n",
            " 'Educational;Creativity' 'Puzzle;Brain Games' 'Educational;Education'\n",
            " 'Card;Brain Games' 'Educational;Brain Games' 'Educational;Pretend Play'\n",
            " 'Entertainment;Education' 'Casual;Education' 'Music;Music & Video'\n",
            " 'Racing;Action & Adventure' 'Arcade;Pretend Play'\n",
            " 'Simulation;Pretend Play' 'Puzzle;Creativity' 'Sports;Action & Adventure'\n",
            " 'Educational;Action & Adventure' 'Arcade;Action & Adventure'\n",
            " 'Entertainment;Action & Adventure' 'Puzzle;Action & Adventure'\n",
            " 'Strategy;Action & Adventure' 'Music & Audio;Music & Video'\n",
            " 'Health & Fitness;Education' 'Adventure;Education' 'Board;Brain Games'\n",
            " 'Board;Action & Adventure' 'Board;Pretend Play'\n",
            " 'Entertainment;Pretend Play' 'Video Players & Editors;Creativity'\n",
            " 'Card;Action & Adventure' 'Medical' 'Social' 'Shopping' 'Photography'\n",
            " 'Travel & Local' 'Travel & Local;Action & Adventure' 'Tools'\n",
            " 'Tools;Education' 'Personalization' 'Productivity' 'Parenting'\n",
            " 'Parenting;Music & Video' 'Parenting;Education' 'Parenting;Brain Games'\n",
            " 'Weather' 'Video Players & Editors'\n",
            " 'Video Players & Editors;Music & Video' 'News & Magazines'\n",
            " 'Maps & Navigation' 'Health & Fitness;Action & Adventure'\n",
            " 'Role Playing;Pretend Play' 'Educational' 'Casino'\n",
            " 'Adventure;Brain Games' 'Role Playing;Action & Adventure'\n",
            " 'Trivia;Education' 'Lifestyle;Education' 'Books & Reference;Creativity'\n",
            " 'Books & Reference;Education' 'Puzzle;Education' 'Role Playing;Education'\n",
            " 'Role Playing;Brain Games' 'Strategy;Education' 'Racing;Pretend Play'\n",
            " 'Communication;Creativity' 'Strategy;Creativity']\n"
          ]
        }
      ]
    },
    {
      "cell_type": "markdown",
      "source": [
        "column:Last Updated"
      ],
      "metadata": {
        "id": "OgYZaUN9XFPG"
      }
    },
    {
      "cell_type": "code",
      "source": [
        "print(playstore_apps[\"Last_Updated\"].nunique())\n",
        "print(playstore_apps[\"Last_Updated\"].unique())"
      ],
      "metadata": {
        "colab": {
          "base_uri": "https://localhost:8080/"
        },
        "id": "0T5aPZhwXJMx",
        "outputId": "00f82697-79b2-407e-e4ce-6882d3e3a743"
      },
      "execution_count": 34,
      "outputs": [
        {
          "output_type": "stream",
          "name": "stdout",
          "text": [
            "1373\n",
            "['07-01-2018' '15-01-2018' '01-08-2018' ... '20-01-2014' '16-02-2014'\n",
            " '23-03-2014']\n"
          ]
        }
      ]
    },
    {
      "cell_type": "code",
      "source": [],
      "metadata": {
        "id": "3HuB88l2ZGUX"
      },
      "execution_count": null,
      "outputs": []
    },
    {
      "cell_type": "code",
      "source": [
        "playstore_apps.info()"
      ],
      "metadata": {
        "colab": {
          "base_uri": "https://localhost:8080/"
        },
        "id": "P2NNnhbgXjb5",
        "outputId": "760c5ad5-163d-489d-dd39-fdb336b16eec"
      },
      "execution_count": 35,
      "outputs": [
        {
          "output_type": "stream",
          "name": "stdout",
          "text": [
            "<class 'pandas.core.frame.DataFrame'>\n",
            "Index: 9929 entries, Photo Editor & Candy Camera & Grid & ScrapBook to iHoroscope - 2018 Daily Horoscope & Astrology\n",
            "Data columns (total 12 columns):\n",
            " #   Column          Non-Null Count  Dtype  \n",
            "---  ------          --------------  -----  \n",
            " 0   Category        9929 non-null   object \n",
            " 1   Rating          9929 non-null   float64\n",
            " 2   Reviews         9929 non-null   float64\n",
            " 3   Size            9929 non-null   object \n",
            " 4   Installs        9929 non-null   float64\n",
            " 5   Type            9928 non-null   object \n",
            " 6   Price           9929 non-null   float64\n",
            " 7   Content_Rating  9929 non-null   object \n",
            " 8   Genres          9929 non-null   object \n",
            " 9   Last_Updated    9929 non-null   object \n",
            " 10  Current_Ver     9921 non-null   object \n",
            " 11  Android_Ver     9927 non-null   object \n",
            "dtypes: float64(4), object(8)\n",
            "memory usage: 1008.4+ KB\n"
          ]
        }
      ]
    },
    {
      "cell_type": "markdown",
      "source": [
        "column:Current Ver"
      ],
      "metadata": {
        "id": "MVxY6mZ3busZ"
      }
    },
    {
      "cell_type": "code",
      "source": [
        "print(playstore_apps[\"Current_Ver\"].nunique())\n",
        "print(playstore_apps[\"Current_Ver\"].unique())"
      ],
      "metadata": {
        "colab": {
          "base_uri": "https://localhost:8080/"
        },
        "id": "WwXs5ZgVb1CY",
        "outputId": "8d039108-631a-48fd-ccb0-97b9d17b0a7e"
      },
      "execution_count": 36,
      "outputs": [
        {
          "output_type": "stream",
          "name": "stdout",
          "text": [
            "2697\n",
            "['1.0.0' '2.0.0' '1.2.4' ... '1.0.612928' '0.3.4' '2.0.148.0']\n"
          ]
        }
      ]
    },
    {
      "cell_type": "code",
      "source": [
        "print(playstore_apps[\"Android_Ver\"].nunique())\n",
        "print(playstore_apps[\"Android_Ver\"].unique())"
      ],
      "metadata": {
        "colab": {
          "base_uri": "https://localhost:8080/"
        },
        "id": "14L6ivo7kMkM",
        "outputId": "e7b662cf-0458-4310-a3f4-202df79744c6"
      },
      "execution_count": 37,
      "outputs": [
        {
          "output_type": "stream",
          "name": "stdout",
          "text": [
            "33\n",
            "['4.0.3 and up' '4.2 and up' '4.4 and up' '2.3 and up' '3.0 and up'\n",
            " '4.1 and up' '4.0 and up' '2.3.3 and up' 'Varies with device'\n",
            " '2.2 and up' '5.0 and up' '6.0 and up' '1.6 and up' '1.5 and up'\n",
            " '2.1 and up' '7.0 and up' '5.1 and up' '4.3 and up' '4.0.3 - 7.1.1'\n",
            " '2.0 and up' '3.2 and up' '4.4W and up' '7.1 and up' '7.0 - 7.1.1'\n",
            " '8.0 and up' '5.0 - 8.0' '3.1 and up' '2.0.1 and up' '4.1 - 7.1.1' nan\n",
            " '5.0 - 6.0' '1.0 and up' '2.2 - 7.1.1' '5.0 - 7.1.1']\n"
          ]
        }
      ]
    },
    {
      "cell_type": "code",
      "source": [
        "playstore_apps.dropna(axis=0,inplace=True)"
      ],
      "metadata": {
        "id": "V8LyhzUugcxL"
      },
      "execution_count": 60,
      "outputs": []
    },
    {
      "cell_type": "code",
      "source": [
        "#since Type,Current Ver,Android Ver are object column"
      ],
      "metadata": {
        "id": "PuiFoed8gg18"
      },
      "execution_count": null,
      "outputs": []
    },
    {
      "cell_type": "code",
      "source": [
        "playstore_apps[\"Android_Ver\"].unique()"
      ],
      "metadata": {
        "colab": {
          "base_uri": "https://localhost:8080/"
        },
        "id": "mgmgWE8DgjMl",
        "outputId": "379f912f-4c37-4e69-f757-51fc6567ddd8"
      },
      "execution_count": 39,
      "outputs": [
        {
          "output_type": "execute_result",
          "data": {
            "text/plain": [
              "array(['4.0.3 and up', '4.2 and up', '4.4 and up', '2.3 and up',\n",
              "       '3.0 and up', '4.1 and up', '4.0 and up', '2.3.3 and up',\n",
              "       'Varies with device', '2.2 and up', '5.0 and up', '6.0 and up',\n",
              "       '1.6 and up', '1.5 and up', '2.1 and up', '7.0 and up',\n",
              "       '5.1 and up', '4.3 and up', '4.0.3 - 7.1.1', '2.0 and up',\n",
              "       '3.2 and up', '4.4W and up', '7.1 and up', '7.0 - 7.1.1',\n",
              "       '8.0 and up', '5.0 - 8.0', '3.1 and up', '2.0.1 and up',\n",
              "       '4.1 - 7.1.1', '5.0 - 6.0', '1.0 and up', '2.2 - 7.1.1',\n",
              "       '5.0 - 7.1.1'], dtype=object)"
            ]
          },
          "metadata": {},
          "execution_count": 39
        }
      ]
    },
    {
      "cell_type": "code",
      "source": [
        "playstore_apps.isna().sum()"
      ],
      "metadata": {
        "colab": {
          "base_uri": "https://localhost:8080/"
        },
        "id": "FJ6NceVniEDu",
        "outputId": "f5f18ce0-4376-48bd-c414-36a31271d3d8"
      },
      "execution_count": 61,
      "outputs": [
        {
          "output_type": "execute_result",
          "data": {
            "text/plain": [
              "Category          0\n",
              "Rating            0\n",
              "Reviews           0\n",
              "Size              0\n",
              "Installs          0\n",
              "Type              0\n",
              "Price             0\n",
              "Content_Rating    0\n",
              "Genres            0\n",
              "Last_Updated      0\n",
              "Current_Ver       0\n",
              "Android_Ver       0\n",
              "dtype: int64"
            ]
          },
          "metadata": {},
          "execution_count": 61
        }
      ]
    },
    {
      "cell_type": "code",
      "source": [
        "playstore_apps.shape"
      ],
      "metadata": {
        "colab": {
          "base_uri": "https://localhost:8080/"
        },
        "id": "ddHeRVpsiMq6",
        "outputId": "b23ac47b-f6c4-4a9b-8dcd-247987617dda"
      },
      "execution_count": 62,
      "outputs": [
        {
          "output_type": "execute_result",
          "data": {
            "text/plain": [
              "(9918, 12)"
            ]
          },
          "metadata": {},
          "execution_count": 62
        }
      ]
    },
    {
      "cell_type": "code",
      "source": [
        "playstore_apps.info()"
      ],
      "metadata": {
        "colab": {
          "base_uri": "https://localhost:8080/"
        },
        "id": "WYrvGLngiHjN",
        "outputId": "291d6ba7-c795-445f-d34f-f44ed2e1f29a"
      },
      "execution_count": 63,
      "outputs": [
        {
          "output_type": "stream",
          "name": "stdout",
          "text": [
            "<class 'pandas.core.frame.DataFrame'>\n",
            "Index: 9918 entries, Photo Editor & Candy Camera & Grid & ScrapBook to iHoroscope - 2018 Daily Horoscope & Astrology\n",
            "Data columns (total 12 columns):\n",
            " #   Column          Non-Null Count  Dtype  \n",
            "---  ------          --------------  -----  \n",
            " 0   Category        9918 non-null   object \n",
            " 1   Rating          9918 non-null   float64\n",
            " 2   Reviews         9918 non-null   float64\n",
            " 3   Size            9918 non-null   object \n",
            " 4   Installs        9918 non-null   float64\n",
            " 5   Type            9918 non-null   object \n",
            " 6   Price           9918 non-null   float64\n",
            " 7   Content_Rating  9918 non-null   object \n",
            " 8   Genres          9918 non-null   object \n",
            " 9   Last_Updated    9918 non-null   object \n",
            " 10  Current_Ver     9918 non-null   object \n",
            " 11  Android_Ver     9918 non-null   object \n",
            "dtypes: float64(4), object(8)\n",
            "memory usage: 1007.3+ KB\n"
          ]
        }
      ]
    },
    {
      "cell_type": "code",
      "source": [
        "playstore_apps.shape"
      ],
      "metadata": {
        "colab": {
          "base_uri": "https://localhost:8080/"
        },
        "id": "5ng6OrGAM9Zq",
        "outputId": "2a1a0b26-36de-4a47-cde1-9fa21d35d62f"
      },
      "execution_count": 64,
      "outputs": [
        {
          "output_type": "execute_result",
          "data": {
            "text/plain": [
              "(9918, 12)"
            ]
          },
          "metadata": {},
          "execution_count": 64
        }
      ]
    },
    {
      "cell_type": "code",
      "source": [
        "from google.colab import files\n",
        "playstore_apps.to_csv('hicounselor_playstoreapps_Cleaned.csv', encoding = 'utf-8') \n",
        "files.download('hicounselor_playstoreapps_Cleaned.csv')"
      ],
      "metadata": {
        "colab": {
          "base_uri": "https://localhost:8080/",
          "height": 17
        },
        "id": "EzVtlZAfmFi-",
        "outputId": "bed88395-7222-462f-f8e3-eae7d4d95462"
      },
      "execution_count": 66,
      "outputs": [
        {
          "output_type": "display_data",
          "data": {
            "text/plain": [
              "<IPython.core.display.Javascript object>"
            ],
            "application/javascript": [
              "\n",
              "    async function download(id, filename, size) {\n",
              "      if (!google.colab.kernel.accessAllowed) {\n",
              "        return;\n",
              "      }\n",
              "      const div = document.createElement('div');\n",
              "      const label = document.createElement('label');\n",
              "      label.textContent = `Downloading \"${filename}\": `;\n",
              "      div.appendChild(label);\n",
              "      const progress = document.createElement('progress');\n",
              "      progress.max = size;\n",
              "      div.appendChild(progress);\n",
              "      document.body.appendChild(div);\n",
              "\n",
              "      const buffers = [];\n",
              "      let downloaded = 0;\n",
              "\n",
              "      const channel = await google.colab.kernel.comms.open(id);\n",
              "      // Send a message to notify the kernel that we're ready.\n",
              "      channel.send({})\n",
              "\n",
              "      for await (const message of channel.messages) {\n",
              "        // Send a message to notify the kernel that we're ready.\n",
              "        channel.send({})\n",
              "        if (message.buffers) {\n",
              "          for (const buffer of message.buffers) {\n",
              "            buffers.push(buffer);\n",
              "            downloaded += buffer.byteLength;\n",
              "            progress.value = downloaded;\n",
              "          }\n",
              "        }\n",
              "      }\n",
              "      const blob = new Blob(buffers, {type: 'application/binary'});\n",
              "      const a = document.createElement('a');\n",
              "      a.href = window.URL.createObjectURL(blob);\n",
              "      a.download = filename;\n",
              "      div.appendChild(a);\n",
              "      a.click();\n",
              "      div.remove();\n",
              "    }\n",
              "  "
            ]
          },
          "metadata": {}
        },
        {
          "output_type": "display_data",
          "data": {
            "text/plain": [
              "<IPython.core.display.Javascript object>"
            ],
            "application/javascript": [
              "download(\"download_c5e7817e-fbe6-44fb-843a-d890f2b11e1d\", \"hicounselor_playstoreapps_Cleaned.csv\", 1179366)"
            ]
          },
          "metadata": {}
        }
      ]
    }
  ]
}